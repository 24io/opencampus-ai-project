{
 "cells": [
  {
   "cell_type": "markdown",
   "metadata": {},
   "source": "# Setup"
  },
  {
   "metadata": {
    "ExecuteTime": {
     "end_time": "2024-06-22T08:30:25.419832Z",
     "start_time": "2024-06-22T08:30:17.736132Z"
    }
   },
   "cell_type": "code",
   "source": [
    "import os\n",
    "import scipy\n",
    "import random\n",
    "import datetime\n",
    "import importlib\n",
    "import numpy as np\n",
    "import scipy.sparse.linalg\n",
    "import tensorflow as tf\n",
    "import matplotlib.pyplot as plt\n",
    "import seaborn as sns\n",
    "from typing import Tuple, Callable, List, Union\n",
    "from scipy.sparse.linalg import gmres, LinearOperator\n",
    "from numpy.linalg import cond\n",
    "from matrixlib.core import MatrixData, ValueProperties, BlockProperties\n",
    "from matrixlib.plot import plot_matrices_and_metadata\n",
    "#import CNN\n",
    "import CNN.models\n",
    "import CNN.training\n",
    "import CNN.evaluation\n",
    "\n",
    "# Check wd\n",
    "current_base_path = os.getcwd()\n",
    "print(f\"Path to current working directory: {current_base_path}\")\n",
    "!whoami"
   ],
   "outputs": [
    {
     "name": "stderr",
     "output_type": "stream",
     "text": [
      "2024-06-22 10:30:20.181749: I tensorflow/core/platform/cpu_feature_guard.cc:210] This TensorFlow binary is optimized to use available CPU instructions in performance-critical operations.\n",
      "To enable the following instructions: AVX2 FMA, in other operations, rebuild TensorFlow with the appropriate compiler flags.\n",
      "2024-06-22 10:30:22.750897: W tensorflow/compiler/tf2tensorrt/utils/py_utils.cc:38] TF-TRT Warning: Could not find TensorRT\n"
     ]
    },
    {
     "name": "stdout",
     "output_type": "stream",
     "text": [
      "Path to current working directory: /home/moonchild/PycharmProjects/opencampus-preconditioner-ai-project\n",
      "moonchild\r\n"
     ]
    }
   ],
   "execution_count": 1
  },
  {
   "metadata": {},
   "cell_type": "code",
   "source": "# !pip install tensorflow-gpu==2.3.0",
   "outputs": [],
   "execution_count": null
  },
  {
   "metadata": {},
   "cell_type": "code",
   "source": "# !pip install tensorflow[and-cuda]",
   "outputs": [],
   "execution_count": null
  },
  {
   "metadata": {},
   "cell_type": "code",
   "source": [
    "# %%capture\n",
    "# !pip install numpy==1.23.1 Pillow==9.2.0 importlib-metadata==4.11.3 matplotlib==3.5.2 scikit-learn==1.1.1 tensorboard==2.9.1 jupyter==1.0.0 ipykernel==6.9.1 seaborn==0.13.2"
   ],
   "outputs": [],
   "execution_count": null
  },
  {
   "metadata": {},
   "cell_type": "code",
   "source": [
    "# import sys\n",
    "# import os\n",
    "# \n",
    "# # Add the project directory to the Python path\n",
    "# sys.path.append('/home/azureuser/projects/opencampus-preconditioner-ai-project')\n",
    "# \n",
    "# # Change the working directory to the project directory\n",
    "# os.chdir('/home/azureuser/projects/opencampus-preconditioner-ai-project')\n",
    "# print(os.getcwd())  # Verify the change"
   ],
   "outputs": [],
   "execution_count": null
  },
  {
   "metadata": {},
   "cell_type": "code",
   "source": "tf.config.list_physical_devices('GPU') ",
   "outputs": [],
   "execution_count": null
  },
  {
   "metadata": {},
   "cell_type": "markdown",
   "source": [
    "# Generate Synthetic Data\n",
    "Generate a set of `n` square symmetrical and positive semi matrices of dimensions `MATRIX_DIM` to RAM.\n",
    "\n",
    "## Define Constants\n",
    "The following constants are used throughout the rest of the notebook."
   ]
  },
  {
   "metadata": {
    "ExecuteTime": {
     "end_time": "2024-06-22T08:30:25.428843Z",
     "start_time": "2024-06-22T08:30:25.423118Z"
    }
   },
   "cell_type": "code",
   "source": [
    "MATRIX_DIM = 64\n",
    "NUMBER_OF_MATRICES = 1000\n",
    "DIAGONAL_BAND_RADIUS = 10\n",
    "RNG_SEED = 42\n",
    "VALUE_COLORBAR = 'rocket'\n",
    "BLOCK_COLORBAR = 'flare'"
   ],
   "outputs": [],
   "execution_count": 2
  },
  {
   "metadata": {
    "ExecuteTime": {
     "end_time": "2024-06-22T08:30:32.279044Z",
     "start_time": "2024-06-22T08:30:25.432263Z"
    }
   },
   "cell_type": "code",
   "source": [
    "# Generate matrices\n",
    "bgr_noise_value_props = ValueProperties(density_range=(0.3, 0.5), value_range=(0.0, 0.5))\n",
    "noise_blk_value_props = ValueProperties(density_range=(0.3, 0.5), value_range=(0.3, 1.0))\n",
    "noise_blk_block_props = BlockProperties(size_range=(3, 32), size_average=10, size_std_dev=0.66, gap_chance=0.5)\n",
    "tdata_blk_value_props = ValueProperties(density_range=(0.5, 0.7), value_range=(0.3, 1.0))\n",
    "tdata_blk_block_props = BlockProperties(size_range=(2, 32), size_average=10, size_std_dev=0.66, gap_chance=0.5)\n",
    "\n",
    "test_data = MatrixData(\n",
    "        dimension=MATRIX_DIM,\n",
    "        band_radius=DIAGONAL_BAND_RADIUS,\n",
    "        sample_size=NUMBER_OF_MATRICES,\n",
    "        background_noise_value_properties=bgr_noise_value_props,\n",
    "        block_noise_value_properties=noise_blk_value_props,\n",
    "        block_noise_block_properties=noise_blk_block_props,\n",
    "        block_data_value_properties=tdata_blk_value_props,\n",
    "        block_data_block_properties=tdata_blk_block_props,\n",
    "        seed=42,\n",
    "        determinant_cutoff=0.01,\n",
    "        print_debug=True\n",
    "    )"
   ],
   "outputs": [
    {
     "name": "stdout",
     "output_type": "stream",
     "text": [
      "initialized        data vectors of size   1000 x  64 x  64 =   4096000 with a memory usage of  15.625 MiB\n",
      "initialized  data start vectors of size   1000 x  64       =     64000 with a memory usage of   0.061 MiB\n",
      "initialized noise start vectors of size   1000 x  64       =     64000 with a memory usage of   0.061 MiB\n",
      "initialized        band vectors of size   1000 x  64 x  10 =    640000 with a memory usage of   5.127 MiB\n",
      "--------------------------------------------------------------------------------\n",
      "instantiation rng generators...\n",
      "generating matrices...\n",
      "matrix at [312] is invalid (det = 0.0029243261087685823) -> re-generating.\n",
      "invalid matrices: 1\n",
      "determinant abs-value range: [0.010296251624822617, 5508474.0]\n"
     ]
    },
    {
     "data": {
      "text/plain": [
       "<Figure size 640x480 with 1 Axes>"
      ],
      "image/png": "[encoded data removed]"
     },
     "metadata": {},
     "output_type": "display_data"
    },
    {
     "name": "stdout",
     "output_type": "stream",
     "text": [
      "duration: 6.83 seconds\n"
     ]
    }
   ],
   "execution_count": 3
  },
  {
   "metadata": {
    "ExecuteTime": {
     "end_time": "2024-06-22T08:37:27.637025Z",
     "start_time": "2024-06-22T08:37:27.614621Z"
    }
   },
   "cell_type": "code",
   "source": [
    "test_data.tdata_blk_starts[0]\n",
    "test_data.bands.shape"
   ],
   "outputs": [
    {
     "data": {
      "text/plain": [
       "(1000, 21, 64)"
      ]
     },
     "execution_count": 5,
     "metadata": {},
     "output_type": "execute_result"
    }
   ],
   "execution_count": 5
  },
  {
   "metadata": {
    "ExecuteTime": {
     "end_time": "2024-06-22T00:59:06.652744Z",
     "start_time": "2024-06-22T00:59:06.580372Z"
    }
   },
   "cell_type": "code",
   "source": [
    "bands = test_data.bands.reshape(NUMBER_OF_MATRICES, (DIAGONAL_BAND_RADIUS* 2 + 1), MATRIX_DIM, 1)\n",
    "bands = np.nan_to_num(bands) # replace NaNs with 0s\n",
    "labels = test_data.block_data_start_labels\n",
    "print(bands.shape, labels.shape)\n",
    "\n",
    "# Create dataset from matrices and labels\n",
    "dataset = tf.data.Dataset.from_tensor_slices((bands, labels))\n",
    "\n",
    "# Split the dataset\n",
    "train_size = int(0.8 * NUMBER_OF_MATRICES)\n",
    "val_size = int(0.1 * NUMBER_OF_MATRICES)\n",
    "test_size = NUMBER_OF_MATRICES - train_size - val_size\n",
    "\n",
    "train_dataset = dataset.take(train_size).shuffle(buffer_size=10)\n",
    "val_dataset = dataset.skip(train_size).take(val_size)\n",
    "test_dataset = dataset.skip(train_size + val_size)\n",
    "\n",
    "print(f\"Train size: {train_size}, Val size: {val_size}, Test size: {test_size}\")\n"
   ],
   "outputs": [
    {
     "ename": "AttributeError",
     "evalue": "'MatrixData' object has no attribute 'block_data_start_labels'",
     "output_type": "error",
     "traceback": [
      "\u001B[0;31m---------------------------------------------------------------------------\u001B[0m",
      "\u001B[0;31mAttributeError\u001B[0m                            Traceback (most recent call last)",
      "Cell \u001B[0;32mIn[9], line 3\u001B[0m\n\u001B[1;32m      1\u001B[0m bands \u001B[38;5;241m=\u001B[39m test_data\u001B[38;5;241m.\u001B[39mbands\u001B[38;5;241m.\u001B[39mreshape(NUMBER_OF_MATRICES, (DIAGONAL_BAND_RADIUS\u001B[38;5;241m*\u001B[39m \u001B[38;5;241m2\u001B[39m \u001B[38;5;241m+\u001B[39m \u001B[38;5;241m1\u001B[39m), MATRIX_DIM, \u001B[38;5;241m1\u001B[39m)\n\u001B[1;32m      2\u001B[0m bands \u001B[38;5;241m=\u001B[39m np\u001B[38;5;241m.\u001B[39mnan_to_num(bands) \u001B[38;5;66;03m# replace NaNs with 0s\u001B[39;00m\n\u001B[0;32m----> 3\u001B[0m labels \u001B[38;5;241m=\u001B[39m \u001B[43mtest_data\u001B[49m\u001B[38;5;241;43m.\u001B[39;49m\u001B[43mblock_data_start_labels\u001B[49m\n\u001B[1;32m      4\u001B[0m \u001B[38;5;28mprint\u001B[39m(bands\u001B[38;5;241m.\u001B[39mshape, labels\u001B[38;5;241m.\u001B[39mshape)\n\u001B[1;32m      6\u001B[0m \u001B[38;5;66;03m# Create dataset from matrices and labels\u001B[39;00m\n",
      "\u001B[0;31mAttributeError\u001B[0m: 'MatrixData' object has no attribute 'block_data_start_labels'"
     ]
    }
   ],
   "execution_count": 9
  },
  {
   "cell_type": "code",
   "metadata": {},
   "source": [
    "# Verfiy Shape\n",
    "print(train_dataset)\n",
    "print(val_dataset)\n",
    "print(test_dataset)\n",
    "\n",
    "# for element in val_dataset:\n",
    "#    print(element)"
   ],
   "outputs": [],
   "execution_count": null
  },
  {
   "cell_type": "markdown",
   "metadata": {},
   "source": [
    "# Training\n",
    "run tensorboard --logdir logs to launch tensorboard"
   ]
  },
  {
   "cell_type": "code",
   "metadata": {},
   "source": [
    "importlib.reload(CNN.training)\n",
    "importlib.reload(CNN.models)\n",
    "\n",
    "# Define parameters\n",
    "loss_fn = tf.keras.losses.BinaryCrossentropy()\n",
    "optimizer = tf.keras.optimizers.Adam(learning_rate=0.00001)\n",
    "num_epochs = 10\n",
    "\n",
    "# Create log dir\n",
    "log_dir = \"logs/fit/\" + datetime.datetime.now().strftime(\"%Y%m%d-%H%M%S\")\n",
    "if not os.path.exists(log_dir):\n",
    "    os.makedirs(log_dir)\n",
    "print(\"Files in log directory:\", os.listdir(log_dir))\n",
    "\n",
    "def set_seeds(seed=42):\n",
    "    tf.random.set_seed(seed)\n",
    "    np.random.seed(seed)\n",
    "    random.seed(seed)\n",
    "\n",
    "set_seeds()\n",
    "\n",
    "# Compile Model\n",
    "model = CNN.models.Baseline(input_shape=((DIAGONAL_BAND_RADIUS * 2 + 1), MATRIX_DIM, 1))\n",
    "model.compile(optimizer=optimizer, loss=loss_fn, metrics=['accuracy'])"
   ],
   "outputs": [],
   "execution_count": null
  },
  {
   "cell_type": "code",
   "metadata": {},
   "source": [
    "# Start Training Loop\n",
    "trained_model, train_losses, val_losses = CNN.training.train_model(\n",
    "    model=model,\n",
    "    train_dataset=train_dataset.batch(1),  # Adjust when connected to vm\n",
    "    val_dataset=val_dataset.batch(1),\n",
    "    loss_fn=loss_fn,\n",
    "    optimizer=optimizer,\n",
    "    num_epochs=num_epochs,\n",
    "    log_dir=log_dir\n",
    ")"
   ],
   "outputs": [],
   "execution_count": null
  },
  {
   "metadata": {},
   "cell_type": "code",
   "source": "model.summary",
   "outputs": [],
   "execution_count": null
  },
  {
   "cell_type": "code",
   "metadata": {},
   "source": [
    "# Plot losses\n",
    "def plot_losses(train_losses, val_losses):\n",
    "    \"\"\"\n",
    "    Plots the training and validation losses.\n",
    "\n",
    "    Args:\n",
    "        train_losses (list of float): List of training losses per epoch.\n",
    "        val_losses (list of float): List of validation losses per epoch.\n",
    "    \"\"\"\n",
    "    plt.figure(figsize=(10, 6))\n",
    "    plt.plot(train_losses, label='Train Loss')\n",
    "    plt.plot(val_losses, label='Validation Loss')\n",
    "    plt.xlabel('Epochs')\n",
    "    plt.ylabel('Loss')\n",
    "    plt.title('Training and Validation Loss Over Epochs')\n",
    "    plt.legend()\n",
    "    plt.grid(True)\n",
    "    plt.show()\n",
    "\n",
    "plot_losses(train_losses, val_losses)"
   ],
   "outputs": [],
   "execution_count": null
  },
  {
   "cell_type": "markdown",
   "metadata": {},
   "source": [
    "# Evaluation"
   ]
  },
  {
   "cell_type": "code",
   "metadata": {},
   "source": [
    "# Evaluate the model on the test set\n",
    "evaluation_results = CNN.evaluation.evaluate_model(\n",
    "    model=trained_model,\n",
    "    test_dataset=test_dataset.batch(1),\n",
    "    loss_fn=loss_fn\n",
    ")"
   ],
   "outputs": [],
   "execution_count": null
  },
  {
   "metadata": {},
   "cell_type": "code",
   "source": [
    "import h5py\n",
    "# Restore weights from best run\n",
    "new_model = CNN.models.Baseline(input_shape=((DIAGONAL_BAND_RADIUS * 2 + 1), MATRIX_DIM, 1))\n",
    "new_model.compile(optimizer=optimizer, loss=loss_fn, metrics=['accuracy'])\n",
    "\n",
    "# best_checkpoint_file = os.path.join(log_dir, \"baseline_final.weights.h5\")  \n",
    "new_model.load_weights(\"/home/moonchild/PycharmProjects/opencampus-preconditioner-ai-project/logs/fit/20240620-160632/model.10-0.3015.weights.h5\")\n",
    "\n",
    "# Log model weights after loading\n",
    "print(\"Model weights after loading:\")\n",
    "print(new_model.get_weights())\n",
    "\n",
    "# Evaluate the restored model\n",
    "new_results = CNN.evaluation.evaluate_model(\n",
    "    model=new_model,\n",
    "    test_dataset=test_dataset.batch(1),\n",
    "    loss_fn=loss_fn\n",
    ")"
   ],
   "outputs": [],
   "execution_count": null
  },
  {
   "cell_type": "markdown",
   "metadata": {},
   "source": "# Prediction"
  },
  {
   "metadata": {},
   "cell_type": "code",
   "source": [
    "# Extract test matrices and labels from dataset\n",
    "test_bands = bands[train_size + val_size:]\n",
    "test_labels = labels[train_size + val_size:]\n",
    "\n",
    "# Make Predictions\n",
    "test_predictions = trained_model.predict(test_dataset.batch(2))\n",
    "\n",
    "# Convert to Binary\n",
    "threshold = 0.5\n",
    "binary_predictions = (test_predictions >= threshold).astype(int)\n",
    "\n",
    "# Calculate Metrics\n",
    "overall_accuracy = (binary_predictions == test_labels).mean()\n",
    "print(\"Overall Accuracy:\")\n",
    "print(overall_accuracy)"
   ],
   "outputs": [],
   "execution_count": null
  },
  {
   "metadata": {},
   "cell_type": "code",
   "source": [
    "test_matrices = test_data.matrices[train_size + val_size:]\n",
    "print(test_matrices.shape)\n",
    "print(test_bands.shape)\n",
    "print(binary_predictions.shape)\n",
    "\n",
    "for i in range(min(5, test_matrices.shape[0])):\n",
    "    print(f\"Condition number of matrix {i}: {np.linalg.cond(A[i])}\")"
   ],
   "outputs": [],
   "execution_count": null
  },
  {
   "metadata": {},
   "cell_type": "markdown",
   "source": [
    "\n",
    "# Create Preconditioner from predicted block starts\n",
    "### 1. Form Blocks from Predictions\n",
    "### 2. Invert Blocks (ensure non-singularity)\n",
    "### 3. Create Block Diagonal Matrix\n",
    "\n"
   ]
  },
  {
   "metadata": {},
   "cell_type": "code",
   "source": [
    "# def ensure_nonsingularity(A: np.ndarray, band_width: int = 10) -> np.ndarray:\n",
    "#     \"\"\"\n",
    "#     Modifies the input matrices to ensure non-singularity by replacing all nonzero entries \n",
    "#     with values in the range (-1, 0) and setting all diagonal band values to 1.0.\n",
    "# \n",
    "#     Args:\n",
    "#         A: NumPy array of shape (n, m, m) representing n square matrices of size m x m.\n",
    "#         band_width: Width of the diagonal band to set to 1.0 (default is 1, which is just the main diagonal)\n",
    "# \n",
    "#     Returns:\n",
    "#         Modified NumPy array.\n",
    "#     \"\"\"\n",
    "#     A_mod = np.copy(A)\n",
    "#     n, m, _ = A.shape\n",
    "#     \n",
    "#     for k in range(n):\n",
    "#         # Replace nonzero off-diagonal elements with random values in (-1, 0)\n",
    "#         mask = (A_mod[k] != 0) & ~np.eye(m, dtype=bool)\n",
    "#         A_mod[k][mask] = np.random.uniform(-1, 0, size=np.sum(mask))\n",
    "#         \n",
    "#         # Set diagonal band to 1.0\n",
    "#         for i in range(m):\n",
    "#             for j in range(max(0, i-band_width+1), min(m, i+band_width)):\n",
    "#                 A_mod[k, i, j] = 1.0\n",
    "# \n",
    "#     return A_mod"
   ],
   "outputs": [],
   "execution_count": null
  },
  {
   "metadata": {},
   "cell_type": "code",
   "source": [
    "def block_jacobi_preconditioner_from_predictions(A, binary_predictions):\n",
    "    n, m, _ = A.shape\n",
    "    prec = np.zeros_like(A)\n",
    "\n",
    "    for k in range(n):\n",
    "        block_starts = np.where(binary_predictions[k] == 1)[0]\n",
    "        block_starts = np.append(block_starts, m)\n",
    "\n",
    "        for i in range(len(block_starts) - 1):\n",
    "            start = block_starts[i]\n",
    "            end = block_starts[i + 1]            \n",
    "            # prec[k, start:end, start:end] = A[k, start:end, start:end]\n",
    "            block = A[k, start:end, start:end]\n",
    "            prec[k, start:end, start:end] = scipy.linalg.inv(block)  # Invert each block\n",
    "\n",
    "    return prec\n",
    "\n",
    "\n",
    "def solve_with_gmres_monitored(A: np.ndarray, b: np.ndarray, M: np.ndarray = None, maxiter: int = 1000, rtol: float = 1e-3) -> tuple[np.ndarray, np.ndarray, np.ndarray, list]:\n",
    "    n, m, _ = A.shape\n",
    "    x_solutions = np.zeros_like(b)\n",
    "    info_array = np.zeros(n, dtype=int)\n",
    "    iteration_counts = np.zeros(n, dtype=int)\n",
    "    all_residuals = []\n",
    "\n",
    "    for k in range(n):\n",
    "        iteration_count = [0]\n",
    "        residuals = []\n",
    "\n",
    "        def callback(rk, xk=None, sk=None):\n",
    "            iteration_count[0] += 1\n",
    "            residuals.append(rk)            \n",
    "\n",
    "        if M is not None:\n",
    "            M_op = LinearOperator(matvec=lambda x: M[k] @ x, shape=(m, m))   # Apply preconditioner by multiplication\n",
    "            x, info = gmres(A[k], b[k], x0=np.zeros_like(b[k]), M=M_op, maxiter=maxiter, rtol=rtol, callback=callback, callback_type='pr_norm')\n",
    "        else:\n",
    "            x, info = gmres(A[k], b[k], x0=np.zeros_like(b[k]), maxiter=maxiter, rtol=rtol, callback=callback, callback_type='pr_norm')\n",
    "\n",
    "        x_solutions[k] = x\n",
    "        info_array[k] = info\n",
    "        iteration_counts[k] = iteration_count[0]\n",
    "        all_residuals.append(residuals)\n",
    "        \n",
    "    return x_solutions, info_array, iteration_counts, all_residuals"
   ],
   "outputs": [],
   "execution_count": null
  },
  {
   "metadata": {},
   "cell_type": "markdown",
   "source": "# Run GMRES Solver with and without Precodnitioner"
  },
  {
   "metadata": {},
   "cell_type": "code",
   "source": [
    "A = test_matrices\n",
    "precs = block_jacobi_preconditioner_from_predictions(A, binary_predictions)\n",
    "b = np.ones((A.shape[0], A.shape[1]))\n",
    "# Solve without preconditioner\n",
    "x_no_prec, info_no_prec, iters_no_prec, residuals_no_prec = solve_with_gmres_monitored(A, b)\n",
    "\n",
    "# Solve with block Jacobi preconditioner\n",
    "x_prec, info_prec, iters_prec, residuals_prec = solve_with_gmres_monitored(A, b, M=precs)\n",
    "\n",
    "# Print summary statistics\n",
    "print(\"Without preconditioner:\")\n",
    "print(f\"  Converged: {np.sum(info_no_prec == 0)} out of {len(info_no_prec)}\")\n",
    "print(f\"  Average iterations: {np.mean(iters_no_prec):.2f}\")\n",
    "\n",
    "print(\"\\nWith Block Jacobi preconditioner:\")\n",
    "print(f\"  Converged: {np.sum(info_prec == 0)} out of {len(info_prec)}\")\n",
    "print(f\"  Average iterations: {np.mean(iters_prec):.2f}\")\n",
    "\n",
    "# Compare final residuals\n",
    "final_residuals_no_prec = [res[-1] if res else np.inf for res in residuals_no_prec]\n",
    "final_residuals_prec = [res[-1] if res else np.inf for res in residuals_prec]\n",
    "\n",
    "print(\"\\nFinal residual comparison:\")\n",
    "print(f\"  Without preconditioner: min={np.min(final_residuals_no_prec):.2e}, max={np.max(final_residuals_no_prec):.2e}, mean={np.mean(final_residuals_no_prec):.2e}\")\n",
    "print(f\"  With preconditioner: min={np.min(final_residuals_prec):.2e}, max={np.max(final_residuals_prec):.2e}, mean={np.mean(final_residuals_prec):.2e}\")\n",
    "\n",
    "# Calculate and print the relative residuals\n",
    "rel_residuals_no_prec = [np.linalg.norm(b[i] - A[i] @ x_no_prec[i]) / np.linalg.norm(b[i]) for i in range(A.shape[0])]\n",
    "rel_residuals_prec = [np.linalg.norm(b[i] - A[i] @ x_prec[i]) / np.linalg.norm(b[i]) for i in range(A.shape[0])]\n",
    "\n",
    "print(\"\\nRelative residual:\")\n",
    "print(f\"  Without preconditioner: min={np.min(rel_residuals_no_prec):.2e}, max={np.max(rel_residuals_no_prec):.2e}, mean={np.mean(rel_residuals_no_prec):.2e}\")\n",
    "print(f\"  With preconditioner: min={np.min(rel_residuals_prec):.2e}, max={np.max(rel_residuals_prec):.2e}, mean={np.mean(rel_residuals_prec):.2e}\")"
   ],
   "outputs": [],
   "execution_count": null
  },
  {
   "metadata": {},
   "cell_type": "code",
   "source": [
    "# Plot convergence for a few matrices\n",
    "num_plots = min(2, A.shape[0])\n",
    "fig, axes = plt.subplots(num_plots, 1, figsize=(6, 4*num_plots), sharex=True)\n",
    "fig.suptitle('GMRES Convergence')\n",
    "\n",
    "for i in range(num_plots):\n",
    "    ax = axes[i] if num_plots > 1 else axes\n",
    "    ax.semilogy(residuals_no_prec[i], label='No preconditioner')\n",
    "    ax.semilogy(residuals_prec[i], label='Block Jacobi preconditioner')\n",
    "    ax.set_ylabel(f'Matrix {i+1}\\nResidual norm')\n",
    "    ax.legend()\n",
    "\n",
    "axes[-1].set_xlabel('Iteration')\n",
    "plt.tight_layout()\n",
    "plt.show()"
   ],
   "outputs": [],
   "execution_count": null
  },
  {
   "metadata": {},
   "cell_type": "code",
   "source": [
    "# Function to plot matrices\n",
    "def plot_matrices(matrices: List[np.ndarray], titles: List[str], colorbar: str = VALUE_COLORBAR) -> None:\n",
    "    num_matrices = len(matrices)\n",
    "    fig, axes = plt.subplots(1, num_matrices, figsize=(5 * num_matrices, 5))\n",
    "\n",
    "    for i, (matrix, title) in enumerate(zip(matrices, titles)):\n",
    "        ax = axes[i] if num_matrices > 1 else axes\n",
    "        sns.heatmap(matrix, cmap=colorbar, ax=ax, cbar=True)\n",
    "        ax.set_title(title)\n",
    "        ax.set_xticks([])\n",
    "        ax.set_yticks([])\n",
    "\n",
    "    plt.tight_layout()\n",
    "    plt.show()\n",
    "    \n",
    "# Plot matrices\n",
    "plot_matrices([test_matrices[0], precs[0]], ['Original Matrix', 'Preconditioner'], colorbar=VALUE_COLORBAR)"
   ],
   "outputs": [],
   "execution_count": null
  },
  {
   "metadata": {},
   "cell_type": "code",
   "source": [
    "# Check condition number\n",
    "from numpy.linalg import cond\n",
    "\n",
    "print(f\"Condition number original: {cond(test_matrices[0])}\")\n",
    "print(f\"Frobenius norm of difference between preconditioner and inverse: {np.linalg.norm(precs[0] - np.linalg.inv(A[0]))}\")\n",
    "#residual = np.linalg.norm(b_example - A_example @ x_prec)\n",
    "#print(f\"Residual after preconditioned GMRES: {residual}\")"
   ],
   "outputs": [],
   "execution_count": null
  }
 ],
 "metadata": {
  "accelerator": "GPU",
  "colab": {
   "gpuType": "T4",
   "provenance": []
  },
  "kernelspec": {
   "display_name": "Matrix Venv",
   "language": "python",
   "name": "matrix_venv"
  },
  "language_info": {
   "codemirror_mode": {
    "name": "ipython",
    "version": 3
   },
   "file_extension": ".py",
   "mimetype": "text/x-python",
   "name": "python",
   "nbconvert_exporter": "python",
   "pygments_lexer": "ipython3",
   "version": "3.8.10"
  }
 },
 "nbformat": 4,
 "nbformat_minor": 4
}
