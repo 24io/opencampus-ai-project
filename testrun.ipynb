{
 "cells": [
  {
   "cell_type": "markdown",
   "metadata": {},
   "source": "# Setup"
  },
  {
   "metadata": {
    "ExecuteTime": {
     "end_time": "2024-06-19T12:14:27.268189Z",
     "start_time": "2024-06-19T12:14:27.115985Z"
    }
   },
   "cell_type": "code",
   "source": "!whoami",
   "outputs": [
    {
     "name": "stdout",
     "output_type": "stream",
     "text": [
      "moonchild\r\n"
     ]
    }
   ],
   "execution_count": 1
  },
  {
   "metadata": {
    "ExecuteTime": {
     "end_time": "2024-06-19T12:14:27.278711Z",
     "start_time": "2024-06-19T12:14:27.271562Z"
    }
   },
   "cell_type": "code",
   "source": " # !pip install tensorflow-gpu==2.3.0",
   "outputs": [],
   "execution_count": 2
  },
  {
   "metadata": {
    "ExecuteTime": {
     "end_time": "2024-06-19T12:14:27.312734Z",
     "start_time": "2024-06-19T12:14:27.307518Z"
    }
   },
   "cell_type": "code",
   "source": "# !pip install tensorflow[and-cuda]",
   "outputs": [],
   "execution_count": 3
  },
  {
   "metadata": {
    "ExecuteTime": {
     "end_time": "2024-06-19T12:14:40.175639Z",
     "start_time": "2024-06-19T12:14:27.425481Z"
    }
   },
   "cell_type": "code",
   "source": [
    "%%capture\n",
    "!pip install numpy==1.23.1 Pillow==9.2.0 importlib-metadata==4.11.3 matplotlib==3.5.2 scikit-learn==1.1.1 tensorboard==2.9.1 jupyter==1.0.0 ipykernel==6.9.1 seaborn==0.13.2"
   ],
   "outputs": [],
   "execution_count": 4
  },
  {
   "metadata": {},
   "cell_type": "markdown",
   "source": [
    "import sys\n",
    "import os\n",
    "\n",
    "# Add the project directory to the Python path\n",
    "sys.path.append('/home/azureuser/projects/opencampus-preconditioner-ai-project')\n",
    "\n",
    "# Change the working directory to the project directory\n",
    "os.chdir('/home/azureuser/projects/opencampus-preconditioner-ai-project')\n",
    "print(os.getcwd())  # Verify the change"
   ]
  },
  {
   "metadata": {
    "ExecuteTime": {
     "end_time": "2024-06-19T12:14:51.649723Z",
     "start_time": "2024-06-19T12:14:40.179308Z"
    }
   },
   "cell_type": "code",
   "source": [
    "import os\n",
    "import scipy\n",
    "import random\n",
    "import importlib\n",
    "import numpy as np\n",
    "import tensorflow as tf\n",
    "import matplotlib.pyplot as plt\n",
    "\n",
    "from scipy.sparse.linalg import gmres\n",
    "from sklearn.metrics import accuracy_score, precision_score, recall_score, f1_score\n",
    "\n",
    "\n",
    "# import matrixlib\n",
    "import matrixlib.core\n",
    "import matrixlib.io\n",
    "import matrixlib.util\n",
    "import matrixlib.plot\n",
    "import matrixlib.generate\n",
    "from matrixlib.core import MatrixData\n",
    "\n",
    "#import CNN\n",
    "import CNN.models\n",
    "import CNN.training\n",
    "import CNN.evaluation\n",
    "\n",
    "# import solvers\n",
    "#import solvers.gmres\n",
    "\n",
    "# Check wd\n",
    "current_base_path = os.getcwd()\n",
    "print(f\"Path to current working directory: {current_base_path}\")\n"
   ],
   "outputs": [
    {
     "name": "stderr",
     "output_type": "stream",
     "text": [
      "2024-06-19 14:14:42.129205: I tensorflow/core/platform/cpu_feature_guard.cc:210] This TensorFlow binary is optimized to use available CPU instructions in performance-critical operations.\n",
      "To enable the following instructions: AVX2 FMA, in other operations, rebuild TensorFlow with the appropriate compiler flags.\n",
      "2024-06-19 14:14:44.875655: W tensorflow/compiler/tf2tensorrt/utils/py_utils.cc:38] TF-TRT Warning: Could not find TensorRT\n"
     ]
    },
    {
     "name": "stdout",
     "output_type": "stream",
     "text": [
      "Path to current working directory: /home/moonchild/PycharmProjects/opencampus-preconditioner-ai-project\n"
     ]
    }
   ],
   "execution_count": 5
  },
  {
   "metadata": {
    "ExecuteTime": {
     "end_time": "2024-06-19T12:14:51.765280Z",
     "start_time": "2024-06-19T12:14:51.652929Z"
    }
   },
   "cell_type": "code",
   "source": "tf.config.list_physical_devices('GPU') ",
   "outputs": [
    {
     "data": {
      "text/plain": [
       "[]"
      ]
     },
     "execution_count": 6,
     "metadata": {},
     "output_type": "execute_result"
    },
    {
     "name": "stderr",
     "output_type": "stream",
     "text": [
      "2024-06-19 14:14:51.754236: E external/local_xla/xla/stream_executor/cuda/cuda_driver.cc:282] failed call to cuInit: CUDA_ERROR_NO_DEVICE: no CUDA-capable device is detected\n"
     ]
    }
   ],
   "execution_count": 6
  },
  {
   "metadata": {},
   "cell_type": "markdown",
   "source": [
    "# Generate Synthetic Data\n",
    "Generate a set of `n` square symmetrical and positive semi matrices of dimensions `MATRIX_DIM` to RAM.\n",
    "\n",
    "## Define Constants\n",
    "The following constants are used throughout the rest of the notebook."
   ]
  },
  {
   "metadata": {
    "ExecuteTime": {
     "end_time": "2024-06-19T12:14:51.778176Z",
     "start_time": "2024-06-19T12:14:51.769865Z"
    }
   },
   "cell_type": "code",
   "source": [
    "MATRIX_DIM = 64\n",
    "NUMBER_OF_MATRICES = 160\n",
    "DIAGONAL_BAND_RADIUS = 10\n",
    "RNG_SEED = 42"
   ],
   "outputs": [],
   "execution_count": 7
  },
  {
   "metadata": {
    "ExecuteTime": {
     "end_time": "2024-06-19T12:14:57.321398Z",
     "start_time": "2024-06-19T12:14:51.780994Z"
    }
   },
   "cell_type": "code",
   "source": [
    "# Generate matrices\n",
    "test_data = MatrixData(\n",
    "        dimension=64,\n",
    "        band_radius=10,\n",
    "        sample_size=160,\n",
    "        background_noise_density_range=(0.3, 0.5),\n",
    "        background_noise_value_range=(0.0, 0.5),\n",
    "        block_noise_density_range=(0.3, 0.5),\n",
    "        block_noise_value_range=(0.3, 1.0),\n",
    "        block_noise_size_range=(3, 32),\n",
    "        block_noise_size_average=10,\n",
    "        block_noise_size_std_dev=0.66,\n",
    "        block_noise_size_gap_chance=0.5,\n",
    "        block_data_density_range=(0.5, 0.7),\n",
    "        block_data_value_range=(0.3, 1.0),\n",
    "        block_data_size_range=(2, 32),\n",
    "        block_data_size_average=10,\n",
    "        block_data_size_std_dev=0.66,\n",
    "        block_data_size_gap_chance=0.0,\n",
    "        seed=42,\n",
    "        force_invertible=False,\n",
    "        print_debug=True\n",
    "    )\n"
   ],
   "outputs": [
    {
     "name": "stdout",
     "output_type": "stream",
     "text": [
      "initialized        data vectors of size    160 x  64 x  64 =    655360 with a memory usage of   2.500 MiB\n",
      "initialized  data start vectors of size    160 x  64       =     10240 with a memory usage of   0.010 MiB\n",
      "initialized noise start vectors of size    160 x  64       =     10240 with a memory usage of   0.010 MiB\n",
      "initialized        band vectors of size    160 x  64 x  10 =    102400 with a memory usage of   0.820 MiB\n"
     ]
    },
    {
     "data": {
      "text/plain": [
       "<Figure size 640x480 with 1 Axes>"
      ],
      "image/png": "[encoded data removed]"
     },
     "metadata": {},
     "output_type": "display_data"
    }
   ],
   "execution_count": 8
  },
  {
   "metadata": {
    "ExecuteTime": {
     "end_time": "2024-06-19T12:14:57.534472Z",
     "start_time": "2024-06-19T12:14:57.323577Z"
    }
   },
   "cell_type": "code",
   "source": [
    "bands = test_data.bands.reshape(NUMBER_OF_MATRICES, (DIAGONAL_BAND_RADIUS* 2 + 1), MATRIX_DIM, 1)\n",
    "bands = np.nan_to_num(bands) # replace NaNs with 0s\n",
    "labels = test_data.block_data_start_labels\n",
    "print(bands.shape, labels.shape)\n",
    "\n",
    "# Create dataset from matrices and labels\n",
    "dataset = tf.data.Dataset.from_tensor_slices((bands, labels))\n",
    "\n",
    "# Split the dataset\n",
    "train_size = int(0.8 * NUMBER_OF_MATRICES)\n",
    "val_size = int(0.1 * NUMBER_OF_MATRICES)\n",
    "test_size = NUMBER_OF_MATRICES - train_size - val_size\n",
    "\n",
    "train_dataset = dataset.take(train_size).shuffle(buffer_size=10)\n",
    "val_dataset = dataset.skip(train_size).take(val_size)\n",
    "test_dataset = dataset.skip(train_size + val_size)\n",
    "\n",
    "print(f\"Train size: {train_size}, Val size: {val_size}, Test size: {test_size}\")\n"
   ],
   "outputs": [
    {
     "name": "stdout",
     "output_type": "stream",
     "text": [
      "(160, 21, 64, 1) (160, 64)\n",
      "Train size: 128, Val size: 16, Test size: 16\n"
     ]
    }
   ],
   "execution_count": 9
  },
  {
   "cell_type": "code",
   "metadata": {
    "ExecuteTime": {
     "end_time": "2024-06-19T12:14:57.546895Z",
     "start_time": "2024-06-19T12:14:57.538730Z"
    }
   },
   "source": [
    "# Verfiy Shape\n",
    "print(train_dataset)\n",
    "print(val_dataset)\n",
    "print(test_dataset)\n",
    "\n",
    "# for element in val_dataset:\n",
    "#    print(element)"
   ],
   "outputs": [
    {
     "name": "stdout",
     "output_type": "stream",
     "text": [
      "<_ShuffleDataset element_spec=(TensorSpec(shape=(21, 64, 1), dtype=tf.float32, name=None), TensorSpec(shape=(64,), dtype=tf.int8, name=None))>\n",
      "<_TakeDataset element_spec=(TensorSpec(shape=(21, 64, 1), dtype=tf.float32, name=None), TensorSpec(shape=(64,), dtype=tf.int8, name=None))>\n",
      "<_SkipDataset element_spec=(TensorSpec(shape=(21, 64, 1), dtype=tf.float32, name=None), TensorSpec(shape=(64,), dtype=tf.int8, name=None))>\n"
     ]
    }
   ],
   "execution_count": 10
  },
  {
   "cell_type": "markdown",
   "metadata": {},
   "source": [
    "# Training"
   ]
  },
  {
   "cell_type": "code",
   "metadata": {
    "ExecuteTime": {
     "end_time": "2024-06-19T13:31:28.005517Z",
     "start_time": "2024-06-19T13:31:27.981832Z"
    }
   },
   "source": [
    "# Define parameters\n",
    "loss_fn = tf.keras.losses.BinaryCrossentropy()\n",
    "optimizer = tf.keras.optimizers.Adam(learning_rate=0.00001)\n",
    "num_epochs = 15\n",
    "log_dir = \"runs/matrix_cnn_experiment\"\n",
    "\n",
    "# Check log files\n",
    "if not os.path.exists(log_dir):\n",
    "    os.makedirs(log_dir)\n",
    "print(\"Files in log directory:\", os.listdir(log_dir))\n",
    "\n",
    "def set_seeds(seed=42):\n",
    "    tf.random.set_seed(seed)\n",
    "    np.random.seed(seed)\n",
    "    random.seed(seed)\n",
    "\n",
    "set_seeds()"
   ],
   "outputs": [
    {
     "name": "stdout",
     "output_type": "stream",
     "text": [
      "Files in log directory: []\n"
     ]
    }
   ],
   "execution_count": 36
  },
  {
   "cell_type": "code",
   "metadata": {
    "ExecuteTime": {
     "end_time": "2024-06-19T13:40:07.441871Z",
     "start_time": "2024-06-19T13:31:31.224640Z"
    }
   },
   "source": [
    "importlib.reload(CNN.training)\n",
    "\n",
    "# Compile Model\n",
    "model = CNN.models.Baseline(input_shape=((DIAGONAL_BAND_RADIUS * 2 + 1), MATRIX_DIM, 1))\n",
    "model.compile(optimizer=optimizer,\n",
    "              loss=loss_fn,\n",
    "              metrics=['accuracy'])\n",
    "\n",
    "# Start Training Loop\n",
    "trained_model, train_losses, val_losses = CNN.training.train_model(\n",
    "    model=model,\n",
    "    train_dataset=train_dataset.batch(1),  # Adjust when connected to vm\n",
    "    val_dataset=val_dataset.batch(1),\n",
    "    loss_fn=loss_fn,\n",
    "    optimizer=optimizer,\n",
    "    num_epochs=num_epochs,\n",
    "    log_dir=log_dir\n",
    ")"
   ],
   "outputs": [
    {
     "name": "stdout",
     "output_type": "stream",
     "text": [
      "Epoch 1/15\n"
     ]
    },
    {
     "name": "stderr",
     "output_type": "stream",
     "text": [
      "2024-06-19 15:32:04.379027: W tensorflow/core/framework/local_rendezvous.cc:404] Local rendezvous is aborting with status: OUT_OF_RANGE: End of sequence\n",
      "2024-06-19 15:32:04.863955: W tensorflow/core/framework/local_rendezvous.cc:404] Local rendezvous is aborting with status: OUT_OF_RANGE: End of sequence\n"
     ]
    },
    {
     "name": "stdout",
     "output_type": "stream",
     "text": [
      "Train Loss: 0.6260 | Validation Loss: 0.4733\n",
      "Epoch 2/15\n"
     ]
    },
    {
     "name": "stderr",
     "output_type": "stream",
     "text": [
      "2024-06-19 15:32:44.817041: W tensorflow/core/framework/local_rendezvous.cc:404] Local rendezvous is aborting with status: OUT_OF_RANGE: End of sequence\n",
      "2024-06-19 15:32:45.262504: W tensorflow/core/framework/local_rendezvous.cc:404] Local rendezvous is aborting with status: OUT_OF_RANGE: End of sequence\n"
     ]
    },
    {
     "name": "stdout",
     "output_type": "stream",
     "text": [
      "Train Loss: 0.3918 | Validation Loss: 0.3499\n",
      "Epoch 3/15\n"
     ]
    },
    {
     "name": "stderr",
     "output_type": "stream",
     "text": [
      "2024-06-19 15:33:17.318923: W tensorflow/core/framework/local_rendezvous.cc:404] Local rendezvous is aborting with status: OUT_OF_RANGE: End of sequence\n",
      "2024-06-19 15:33:18.050690: W tensorflow/core/framework/local_rendezvous.cc:404] Local rendezvous is aborting with status: OUT_OF_RANGE: End of sequence\n"
     ]
    },
    {
     "name": "stdout",
     "output_type": "stream",
     "text": [
      "Train Loss: 0.3384 | Validation Loss: 0.3246\n",
      "Epoch 4/15\n"
     ]
    },
    {
     "name": "stderr",
     "output_type": "stream",
     "text": [
      "2024-06-19 15:34:00.471054: W tensorflow/core/framework/local_rendezvous.cc:404] Local rendezvous is aborting with status: OUT_OF_RANGE: End of sequence\n",
      "2024-06-19 15:34:00.983164: W tensorflow/core/framework/local_rendezvous.cc:404] Local rendezvous is aborting with status: OUT_OF_RANGE: End of sequence\n"
     ]
    },
    {
     "name": "stdout",
     "output_type": "stream",
     "text": [
      "Train Loss: 0.3200 | Validation Loss: 0.3139\n",
      "Epoch 5/15\n"
     ]
    },
    {
     "name": "stderr",
     "output_type": "stream",
     "text": [
      "2024-06-19 15:34:38.402301: W tensorflow/core/framework/local_rendezvous.cc:404] Local rendezvous is aborting with status: OUT_OF_RANGE: End of sequence\n",
      "2024-06-19 15:34:38.900497: W tensorflow/core/framework/local_rendezvous.cc:404] Local rendezvous is aborting with status: OUT_OF_RANGE: End of sequence\n"
     ]
    },
    {
     "name": "stdout",
     "output_type": "stream",
     "text": [
      "Train Loss: 0.3093 | Validation Loss: 0.3079\n",
      "Epoch 6/15\n"
     ]
    },
    {
     "name": "stderr",
     "output_type": "stream",
     "text": [
      "2024-06-19 15:35:15.493379: W tensorflow/core/framework/local_rendezvous.cc:404] Local rendezvous is aborting with status: OUT_OF_RANGE: End of sequence\n",
      "2024-06-19 15:35:15.976560: W tensorflow/core/framework/local_rendezvous.cc:404] Local rendezvous is aborting with status: OUT_OF_RANGE: End of sequence\n"
     ]
    },
    {
     "name": "stdout",
     "output_type": "stream",
     "text": [
      "Train Loss: 0.3018 | Validation Loss: 0.3038\n",
      "Epoch 7/15\n"
     ]
    },
    {
     "name": "stderr",
     "output_type": "stream",
     "text": [
      "2024-06-19 15:35:56.662950: W tensorflow/core/framework/local_rendezvous.cc:404] Local rendezvous is aborting with status: OUT_OF_RANGE: End of sequence\n",
      "2024-06-19 15:35:57.555336: W tensorflow/core/framework/local_rendezvous.cc:404] Local rendezvous is aborting with status: OUT_OF_RANGE: End of sequence\n"
     ]
    },
    {
     "name": "stdout",
     "output_type": "stream",
     "text": [
      "Train Loss: 0.2984 | Validation Loss: 0.3014\n",
      "Epoch 8/15\n"
     ]
    },
    {
     "name": "stderr",
     "output_type": "stream",
     "text": [
      "2024-06-19 15:36:31.768206: W tensorflow/core/framework/local_rendezvous.cc:404] Local rendezvous is aborting with status: OUT_OF_RANGE: End of sequence\n",
      "2024-06-19 15:36:32.476815: W tensorflow/core/framework/local_rendezvous.cc:404] Local rendezvous is aborting with status: OUT_OF_RANGE: End of sequence\n"
     ]
    },
    {
     "name": "stdout",
     "output_type": "stream",
     "text": [
      "Train Loss: 0.2917 | Validation Loss: 0.2994\n",
      "Epoch 9/15\n"
     ]
    },
    {
     "name": "stderr",
     "output_type": "stream",
     "text": [
      "2024-06-19 15:37:03.464399: W tensorflow/core/framework/local_rendezvous.cc:404] Local rendezvous is aborting with status: OUT_OF_RANGE: End of sequence\n",
      "2024-06-19 15:37:03.908789: W tensorflow/core/framework/local_rendezvous.cc:404] Local rendezvous is aborting with status: OUT_OF_RANGE: End of sequence\n"
     ]
    },
    {
     "name": "stdout",
     "output_type": "stream",
     "text": [
      "Train Loss: 0.2889 | Validation Loss: 0.2975\n",
      "Epoch 10/15\n"
     ]
    },
    {
     "name": "stderr",
     "output_type": "stream",
     "text": [
      "2024-06-19 15:37:32.335634: W tensorflow/core/framework/local_rendezvous.cc:404] Local rendezvous is aborting with status: OUT_OF_RANGE: End of sequence\n",
      "2024-06-19 15:37:32.788804: W tensorflow/core/framework/local_rendezvous.cc:404] Local rendezvous is aborting with status: OUT_OF_RANGE: End of sequence\n"
     ]
    },
    {
     "name": "stdout",
     "output_type": "stream",
     "text": [
      "Train Loss: 0.2857 | Validation Loss: 0.2962\n",
      "Epoch 11/15\n"
     ]
    },
    {
     "name": "stderr",
     "output_type": "stream",
     "text": [
      "2024-06-19 15:38:02.811270: W tensorflow/core/framework/local_rendezvous.cc:404] Local rendezvous is aborting with status: OUT_OF_RANGE: End of sequence\n",
      "2024-06-19 15:38:03.327929: W tensorflow/core/framework/local_rendezvous.cc:404] Local rendezvous is aborting with status: OUT_OF_RANGE: End of sequence\n"
     ]
    },
    {
     "name": "stdout",
     "output_type": "stream",
     "text": [
      "Train Loss: 0.2810 | Validation Loss: 0.2949\n",
      "Epoch 12/15\n"
     ]
    },
    {
     "name": "stderr",
     "output_type": "stream",
     "text": [
      "2024-06-19 15:38:34.023506: W tensorflow/core/framework/local_rendezvous.cc:404] Local rendezvous is aborting with status: OUT_OF_RANGE: End of sequence\n",
      "2024-06-19 15:38:34.494095: W tensorflow/core/framework/local_rendezvous.cc:404] Local rendezvous is aborting with status: OUT_OF_RANGE: End of sequence\n"
     ]
    },
    {
     "name": "stdout",
     "output_type": "stream",
     "text": [
      "Train Loss: 0.2750 | Validation Loss: 0.2937\n",
      "Epoch 13/15\n"
     ]
    },
    {
     "name": "stderr",
     "output_type": "stream",
     "text": [
      "2024-06-19 15:39:04.100202: W tensorflow/core/framework/local_rendezvous.cc:404] Local rendezvous is aborting with status: OUT_OF_RANGE: End of sequence\n",
      "2024-06-19 15:39:04.590012: W tensorflow/core/framework/local_rendezvous.cc:404] Local rendezvous is aborting with status: OUT_OF_RANGE: End of sequence\n"
     ]
    },
    {
     "name": "stdout",
     "output_type": "stream",
     "text": [
      "Train Loss: 0.2701 | Validation Loss: 0.2924\n",
      "Epoch 14/15\n"
     ]
    },
    {
     "name": "stderr",
     "output_type": "stream",
     "text": [
      "2024-06-19 15:39:36.079752: W tensorflow/core/framework/local_rendezvous.cc:404] Local rendezvous is aborting with status: OUT_OF_RANGE: End of sequence\n",
      "2024-06-19 15:39:36.568087: W tensorflow/core/framework/local_rendezvous.cc:404] Local rendezvous is aborting with status: OUT_OF_RANGE: End of sequence\n"
     ]
    },
    {
     "name": "stdout",
     "output_type": "stream",
     "text": [
      "Train Loss: 0.2638 | Validation Loss: 0.2912\n",
      "Epoch 15/15\n"
     ]
    },
    {
     "name": "stderr",
     "output_type": "stream",
     "text": [
      "2024-06-19 15:40:06.620579: W tensorflow/core/framework/local_rendezvous.cc:404] Local rendezvous is aborting with status: OUT_OF_RANGE: End of sequence\n",
      "2024-06-19 15:40:07.087403: W tensorflow/core/framework/local_rendezvous.cc:404] Local rendezvous is aborting with status: OUT_OF_RANGE: End of sequence\n"
     ]
    },
    {
     "name": "stdout",
     "output_type": "stream",
     "text": [
      "Train Loss: 0.2596 | Validation Loss: 0.2899\n",
      "Restoring model weights from the end of the best epoch: 15.\n"
     ]
    }
   ],
   "execution_count": 37
  },
  {
   "cell_type": "code",
   "metadata": {
    "ExecuteTime": {
     "end_time": "2024-06-19T13:40:19.325093Z",
     "start_time": "2024-06-19T13:40:18.954921Z"
    }
   },
   "source": [
    "# Plot losses\n",
    "def plot_losses(train_losses, val_losses):\n",
    "    \"\"\"\n",
    "    Plots the training and validation losses.\n",
    "\n",
    "    Args:\n",
    "        train_losses (list of float): List of training losses per epoch.\n",
    "        val_losses (list of float): List of validation losses per epoch.\n",
    "    \"\"\"\n",
    "    plt.figure(figsize=(10, 6))\n",
    "    plt.plot(train_losses, label='Train Loss')\n",
    "    plt.plot(val_losses, label='Validation Loss')\n",
    "    plt.xlabel('Epochs')\n",
    "    plt.ylabel('Loss')\n",
    "    plt.title('Training and Validation Loss Over Epochs')\n",
    "    plt.legend()\n",
    "    plt.grid(True)\n",
    "    plt.show()\n",
    "\n",
    "plot_losses(train_losses, val_losses)"
   ],
   "outputs": [
    {
     "data": {
      "text/plain": [
       "<Figure size 1000x600 with 1 Axes>"
      ],
      "image/png": "[encoded data removed]"
     },
     "metadata": {},
     "output_type": "display_data"
    }
   ],
   "execution_count": 38
  },
  {
   "cell_type": "markdown",
   "metadata": {},
   "source": [
    "# Evaluation"
   ]
  },
  {
   "cell_type": "code",
   "metadata": {
    "ExecuteTime": {
     "end_time": "2024-06-19T13:45:56.925908Z",
     "start_time": "2024-06-19T13:45:56.012762Z"
    }
   },
   "source": [
    "# Evaluate the model on the test set\n",
    "evaluation_results = CNN.evaluation.evaluate_model(\n",
    "    model=trained_model,\n",
    "    test_dataset=test_dataset.batch(1),\n",
    "    loss_fn=loss_fn\n",
    ")"
   ],
   "outputs": [
    {
     "name": "stdout",
     "output_type": "stream",
     "text": [
      "True Labels Shape: (1024,)\n",
      "Predicted Labels Shape: (1024,)\n",
      "Test Loss: 0.2860\n",
      "Accuracy: 0.9141\n",
      "Precision: 0.9216\n",
      "Recall: 0.9141\n",
      "F1 Score: 0.8845\n"
     ]
    },
    {
     "name": "stderr",
     "output_type": "stream",
     "text": [
      "2024-06-19 15:45:56.901414: W tensorflow/core/framework/local_rendezvous.cc:404] Local rendezvous is aborting with status: OUT_OF_RANGE: End of sequence\n"
     ]
    }
   ],
   "execution_count": 50
  },
  {
   "metadata": {
    "ExecuteTime": {
     "end_time": "2024-06-19T13:58:55.172354Z",
     "start_time": "2024-06-19T13:58:55.061914Z"
    }
   },
   "cell_type": "code",
   "source": [
    "# Restore weights from best run\n",
    "restored_model = CNN.models.Baseline(input_shape=((DIAGONAL_BAND_RADIUS * 2 + 1), MATRIX_DIM, 1))\n",
    "latest = tf.train.latest_checkpoint(log_dir)\n",
    "restored_model.load_weights(latest)\n",
    "\n",
    "# Evaluate the restored model\n",
    "restored_results = CNN.evaluation.evaluate_model(\n",
    "    model=restored_model,\n",
    "    test_dataset=test_dataset.batch(1),\n",
    "    loss_fn=loss_fn\n",
    ")"
   ],
   "outputs": [
    {
     "ename": "ValueError",
     "evalue": "File format not supported: filepath=None. Keras 3 only supports V3 `.keras` and `.weights.h5` files, or legacy V1/V2 `.h5` files.",
     "output_type": "error",
     "traceback": [
      "\u001B[0;31m---------------------------------------------------------------------------\u001B[0m",
      "\u001B[0;31mValueError\u001B[0m                                Traceback (most recent call last)",
      "Cell \u001B[0;32mIn[53], line 4\u001B[0m\n\u001B[1;32m      2\u001B[0m restored_model \u001B[38;5;241m=\u001B[39m CNN\u001B[38;5;241m.\u001B[39mmodels\u001B[38;5;241m.\u001B[39mBaseline(input_shape\u001B[38;5;241m=\u001B[39m((DIAGONAL_BAND_RADIUS \u001B[38;5;241m*\u001B[39m \u001B[38;5;241m2\u001B[39m \u001B[38;5;241m+\u001B[39m \u001B[38;5;241m1\u001B[39m), MATRIX_DIM, \u001B[38;5;241m1\u001B[39m))\n\u001B[1;32m      3\u001B[0m latest \u001B[38;5;241m=\u001B[39m tf\u001B[38;5;241m.\u001B[39mtrain\u001B[38;5;241m.\u001B[39mlatest_checkpoint(log_dir)\n\u001B[0;32m----> 4\u001B[0m \u001B[43mrestored_model\u001B[49m\u001B[38;5;241;43m.\u001B[39;49m\u001B[43mload_weights\u001B[49m\u001B[43m(\u001B[49m\u001B[43mlatest\u001B[49m\u001B[43m)\u001B[49m\n\u001B[1;32m      6\u001B[0m \u001B[38;5;66;03m# Evaluate the restored model\u001B[39;00m\n\u001B[1;32m      7\u001B[0m restored_results \u001B[38;5;241m=\u001B[39m CNN\u001B[38;5;241m.\u001B[39mevaluation\u001B[38;5;241m.\u001B[39mevaluate_model(\n\u001B[1;32m      8\u001B[0m     model\u001B[38;5;241m=\u001B[39mrestored_model,\n\u001B[1;32m      9\u001B[0m     test_dataset\u001B[38;5;241m=\u001B[39mtest_dataset\u001B[38;5;241m.\u001B[39mbatch(\u001B[38;5;241m1\u001B[39m),\n\u001B[1;32m     10\u001B[0m     loss_fn\u001B[38;5;241m=\u001B[39mloss_fn\n\u001B[1;32m     11\u001B[0m )\n",
      "File \u001B[0;32m~/PythonProjects/Preconditioning/opencampus-preconditioner-ai-project/matrix_venv/lib/python3.12/site-packages/keras/src/utils/traceback_utils.py:122\u001B[0m, in \u001B[0;36mfilter_traceback.<locals>.error_handler\u001B[0;34m(*args, **kwargs)\u001B[0m\n\u001B[1;32m    119\u001B[0m     filtered_tb \u001B[38;5;241m=\u001B[39m _process_traceback_frames(e\u001B[38;5;241m.\u001B[39m__traceback__)\n\u001B[1;32m    120\u001B[0m     \u001B[38;5;66;03m# To get the full stack trace, call:\u001B[39;00m\n\u001B[1;32m    121\u001B[0m     \u001B[38;5;66;03m# `keras.config.disable_traceback_filtering()`\u001B[39;00m\n\u001B[0;32m--> 122\u001B[0m     \u001B[38;5;28;01mraise\u001B[39;00m e\u001B[38;5;241m.\u001B[39mwith_traceback(filtered_tb) \u001B[38;5;28;01mfrom\u001B[39;00m \u001B[38;5;28;01mNone\u001B[39;00m\n\u001B[1;32m    123\u001B[0m \u001B[38;5;28;01mfinally\u001B[39;00m:\n\u001B[1;32m    124\u001B[0m     \u001B[38;5;28;01mdel\u001B[39;00m filtered_tb\n",
      "File \u001B[0;32m~/PythonProjects/Preconditioning/opencampus-preconditioner-ai-project/matrix_venv/lib/python3.12/site-packages/keras/src/saving/saving_api.py:262\u001B[0m, in \u001B[0;36mload_weights\u001B[0;34m(model, filepath, skip_mismatch, **kwargs)\u001B[0m\n\u001B[1;32m    260\u001B[0m             legacy_h5_format\u001B[38;5;241m.\u001B[39mload_weights_from_hdf5_group(f, model)\n\u001B[1;32m    261\u001B[0m \u001B[38;5;28;01melse\u001B[39;00m:\n\u001B[0;32m--> 262\u001B[0m     \u001B[38;5;28;01mraise\u001B[39;00m \u001B[38;5;167;01mValueError\u001B[39;00m(\n\u001B[1;32m    263\u001B[0m         \u001B[38;5;124mf\u001B[39m\u001B[38;5;124m\"\u001B[39m\u001B[38;5;124mFile format not supported: filepath=\u001B[39m\u001B[38;5;132;01m{\u001B[39;00mfilepath\u001B[38;5;132;01m}\u001B[39;00m\u001B[38;5;124m. \u001B[39m\u001B[38;5;124m\"\u001B[39m\n\u001B[1;32m    264\u001B[0m         \u001B[38;5;124m\"\u001B[39m\u001B[38;5;124mKeras 3 only supports V3 `.keras` and `.weights.h5` \u001B[39m\u001B[38;5;124m\"\u001B[39m\n\u001B[1;32m    265\u001B[0m         \u001B[38;5;124m\"\u001B[39m\u001B[38;5;124mfiles, or legacy V1/V2 `.h5` files.\u001B[39m\u001B[38;5;124m\"\u001B[39m\n\u001B[1;32m    266\u001B[0m     )\n",
      "\u001B[0;31mValueError\u001B[0m: File format not supported: filepath=None. Keras 3 only supports V3 `.keras` and `.weights.h5` files, or legacy V1/V2 `.h5` files."
     ]
    }
   ],
   "execution_count": 53
  },
  {
   "metadata": {
    "ExecuteTime": {
     "end_time": "2024-06-19T13:45:51.544476Z",
     "start_time": "2024-06-19T13:45:50.356025Z"
    }
   },
   "cell_type": "code",
   "source": [
    "# Restore the model weights from the checkpoint\n",
    "restored_model = CNN.models.Baseline(input_shape=((DIAGONAL_BAND_RADIUS * 2 + 1), MATRIX_DIM, 1))\n",
    "checkpoint = tf.train.Checkpoint(optimizer=optimizer, model=restored_model)\n",
    "checkpoint.restore(tf.train.latest_checkpoint(log_dir)).expect_partial()\n",
    "\n",
    "# Evaluate the restored model\n",
    "restored_results = CNN.evaluation.evaluate_model(\n",
    "    model=restored_model,\n",
    "    test_dataset=test_dataset.batch(1),\n",
    "    loss_fn=loss_fn\n",
    ")"
   ],
   "outputs": [
    {
     "name": "stdout",
     "output_type": "stream",
     "text": [
      "True Labels Shape: (1024,)\n",
      "Predicted Labels Shape: (1024,)\n",
      "Test Loss: 0.7498\n",
      "Accuracy: 0.4688\n",
      "Precision: 0.8108\n",
      "Recall: 0.4688\n",
      "F1 Score: 0.5656\n"
     ]
    },
    {
     "name": "stderr",
     "output_type": "stream",
     "text": [
      "2024-06-19 15:45:51.523401: W tensorflow/core/framework/local_rendezvous.cc:404] Local rendezvous is aborting with status: OUT_OF_RANGE: End of sequence\n"
     ]
    }
   ],
   "execution_count": 49
  },
  {
   "cell_type": "markdown",
   "metadata": {},
   "source": [
    "# Prediction"
   ]
  },
  {
   "cell_type": "code",
   "metadata": {
    "ExecuteTime": {
     "end_time": "2024-06-19T12:45:33.534880Z",
     "start_time": "2024-06-19T12:45:32.654655Z"
    }
   },
   "source": [
    "# Extract test matrices and labels from dataset\n",
    "test_bands = bands[train_size + val_size:]\n",
    "test_labels = labels[train_size + val_size:]\n",
    "\n",
    "# Make Predictions\n",
    "test_predictions = trained_model.predict(test_dataset.batch(1))\n",
    "\n",
    "# Convert to Binary\n",
    "threshold = 0.5\n",
    "binary_predictions = (test_predictions >= threshold).astype(int)\n",
    "\n",
    "# Calculate Metrics\n",
    "overall_accuracy = (binary_predictions == test_labels).mean()\n",
    "print(\"Overall Accuracy:\")\n",
    "print(overall_accuracy)"
   ],
   "outputs": [
    {
     "name": "stdout",
     "output_type": "stream",
     "text": [
      "\u001B[1m16/16\u001B[0m \u001B[32m━━━━━━━━━━━━━━━━━━━━\u001B[0m\u001B[37m\u001B[0m \u001B[1m1s\u001B[0m 10ms/step\n",
      "Overall Accuracy:\n",
      "0.9140625\n"
     ]
    }
   ],
   "execution_count": 19
  },
  {
   "cell_type": "markdown",
   "metadata": {},
   "source": [
    "# Create Block Jacobi Preconditioner"
   ]
  },
  {
   "cell_type": "code",
   "metadata": {},
   "source": [
    "print(test_bands.shape)\n",
    "print(binary_predictions.shape)"
   ],
   "outputs": [],
   "execution_count": null
  },
  {
   "cell_type": "code",
   "metadata": {},
   "source": [
    "def block_jacobi_preconditioner_from_predictions(A, binary_predictions):\n",
    "    \"\"\"\n",
    "    Calculates the block Jacobi preconditioner for each 2D matrix in a 3D array using binary predictions for block starts.\n",
    "\n",
    "    Args:\n",
    "        A: NumPy array of shape (n, m, m) representing n square matrices of size m x m.\n",
    "        binary_predictions: NumPy array of shape (n, m) where each row indicates block starts with 1s.\n",
    "\n",
    "    Returns:\n",
    "        A NumPy array of the same shape as A representing the block diagonal preconditioner for each 2D matrix.\n",
    "    \"\"\"\n",
    "    n, m, _ = A.shape\n",
    "    \n",
    "    # Initialize the preconditioner array\n",
    "    prec = np.zeros_like(A)\n",
    "    \n",
    "    for k in range(n):\n",
    "        # Find block start indices from binary predictions\n",
    "        block_starts = np.where(binary_predictions[k] == 1)[0]\n",
    "        \n",
    "        # Ensure to include the end of the matrix as a block end\n",
    "        block_starts = np.append(block_starts, m)\n",
    "        \n",
    "        # Extract diagonal blocks\n",
    "        blocks = []\n",
    "        for i in range(len(block_starts) - 1):\n",
    "            start = block_starts[i]\n",
    "            end = block_starts[i + 1]\n",
    "            blocks.append(A[k, start:end, start:end])\n",
    "        \n",
    "        # Invert diagonal blocks if they are invertible\n",
    "        inv_blocks = []\n",
    "        for block in blocks:\n",
    "            try:\n",
    "                inv_block = np.linalg.inv(block)\n",
    "            except np.linalg.LinAlgError:\n",
    "                # Use pseudoinverse if the block is singular\n",
    "                inv_block = np.linalg.pinv(block)\n",
    "            inv_blocks.append(inv_block)\n",
    "        \n",
    "        # Create block diagonal matrix for the k-th matrix\n",
    "        for i, block in enumerate(inv_blocks):\n",
    "            start = block_starts[i]\n",
    "            end = block_starts[i + 1]\n",
    "            prec[k, start:end, start:end] = block\n",
    "    \n",
    "    return prec"
   ],
   "outputs": [],
   "execution_count": null
  },
  {
   "cell_type": "code",
   "metadata": {},
   "source": [
    "# Create preconditioner\n",
    "prec = block_jacobi_preconditioner_from_predictions(test_matrices, binary_predictions)\n",
    "\n",
    "print(\"Original Matrix A (first instance):\")\n",
    "print(A[0])\n",
    "print(\"\\nBlock Jacobi Preconditioner (first instance):\")\n",
    "print(prec[0])"
   ],
   "outputs": [],
   "execution_count": null
  },
  {
   "cell_type": "markdown",
   "metadata": {},
   "source": [
    "# GMRES Solver"
   ]
  },
  {
   "cell_type": "markdown",
   "metadata": {},
   "source": [
    "## Check Condition Number before Preconditioning"
   ]
  },
  {
   "cell_type": "code",
   "metadata": {},
   "source": [
    "print(test_labels.shape)\n",
    "print(test_labels[0])"
   ],
   "outputs": [],
   "execution_count": null
  },
  {
   "cell_type": "code",
   "metadata": {},
   "source": [
    "def check_condition_number(matrix):\n",
    "    try:\n",
    "        condition_number = np.linalg.cond(matrix)\n",
    "    except np.linalg.LinAlgError:\n",
    "        condition_number = float('inf')\n",
    "    return condition_number\n",
    "\n",
    "check_condition_number(test_matrices[0])\n"
   ],
   "outputs": [],
   "execution_count": null
  },
  {
   "cell_type": "code",
   "metadata": {},
   "source": [
    "\n",
    "# Convert test_labels to integer indices\n",
    "block_starts = np.where(test_labels[0] == 1)[0]\n",
    "\n",
    "# Check condition numbers\n",
    "for i, matrix in enumerate(test_matrices):\n",
    "    condition_number = check_condition_number(matrix)\n",
    "    print(f\"Condition number of matrix {i}: {condition_number}\")\n",
    "    block_starts = np.where(binary_predictions[i] == 1)[0]\n",
    "    block_starts = np.append(block_starts, matrix.shape[0])\n",
    "    for j in range(len(block_starts) - 1):\n",
    "        start = block_starts[j]\n",
    "        end = block_starts[j + 1]\n",
    "        block = matrix[start:end, start:end]\n",
    "        block_condition_number = check_condition_number(block)\n",
    "        print(f\"Condition number of block {j} of matrix {i}: {block_condition_number}\")\n",
    "        prec_block = prec[i, start:end, start:end]\n",
    "        prec_block_condition_number = check_condition_number(prec_block)\n",
    "        print(f\"Condition number of preconditioner block {j} of matrix {i}: {prec_block_condition_number}\")\n",
    "\n",
    "print(\"Original Matrix A (first instance):\")\n",
    "print(test_matrices[0])\n",
    "print(\"\\nBlock Jacobi Preconditioner (first instance):\")\n",
    "print(prec[0])"
   ],
   "outputs": [],
   "execution_count": null
  },
  {
   "cell_type": "code",
   "metadata": {},
   "source": [
    "# Run GMRES solver on unconditioned matrices\n",
    "from scipy.sparse.linalg import gmres\n",
    "\n",
    "# Define parameters\n",
    "maxit = 100\n",
    "tol = 1e-5\n",
    "\n",
    "solutions_no_preconditioner = []  # List to store solution vectors for all matrices\n",
    "\n",
    "\n",
    "for i, matrix in enumerate(test_matrices):\n",
    "    # Convert matrix to sparse format\n",
    "    A_sparse = scipy.sparse.csr_matrix(matrix)\n",
    "\n",
    "    # Define right-hand side as a vector of ones\n",
    "    b = np.ones(matrix.shape[0])\n",
    "\n",
    "    # Extract the corresponding preconditioner for this matrix\n",
    "    preconditioner_matrix = scipy.sparse.csr_matrix(prec[i])\n",
    "\n",
    "    # Run GMRES solver\n",
    "    x, iteration_number = gmres(A_sparse, b, M=preconditioner_matrix, tol=tol, maxiter=maxit)\n",
    "    solutions_no_preconditioner.append(x)\n",
    "    print(f\"Matrix {i} solved in {iteration_number}\")\n",
    "\n",
    "\n"
   ],
   "outputs": [],
   "execution_count": null
  },
  {
   "cell_type": "code",
   "metadata": {},
   "source": [
    "solutions_with_preconditioner = []  \n",
    "\n",
    "for i, matrix in enumerate(test_matrices):\n",
    "    # Convert matrix to sparse format\n",
    "    A_sparse = scipy.sparse.csr_matrix(matrix)\n",
    "\n",
    "    # Define right-hand side as a vector of ones\n",
    "    b = np.ones(matrix.shape[0])\n",
    "\n",
    "    # Extract the corresponding preconditioner for this matrix\n",
    "    preconditioner_matrix = scipy.sparse.csr_matrix(prec[i])\n",
    "\n",
    "    # Run GMRES solver\n",
    "    x, exit_code = gmres(A_sparse, b, M=preconditioner_matrix, tol=1e-1, maxiter=5000)\n",
    "    solutions_with_preconditioner.append(x)\n",
    "    print(f\"Matrix {i} solved with exit code {exit_code}\")\n",
    "\n",
    "print(\"All matrices solved with preconditioner.\")"
   ],
   "outputs": [],
   "execution_count": null
  },
  {
   "cell_type": "code",
   "metadata": {},
   "source": [
    "while True:\n",
    "    pass"
   ],
   "outputs": [],
   "execution_count": null
  }
 ],
 "metadata": {
  "accelerator": "GPU",
  "colab": {
   "gpuType": "T4",
   "provenance": []
  },
  "kernelspec": {
   "display_name": "Matrix Venv",
   "language": "python",
   "name": "matrix_venv"
  },
  "language_info": {
   "codemirror_mode": {
    "name": "ipython",
    "version": 3
   },
   "file_extension": ".py",
   "mimetype": "text/x-python",
   "name": "python",
   "nbconvert_exporter": "python",
   "pygments_lexer": "ipython3",
   "version": "3.8.10"
  }
 },
 "nbformat": 4,
 "nbformat_minor": 4
}
