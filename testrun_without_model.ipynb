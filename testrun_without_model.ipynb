{
 "cells": [
  {
   "cell_type": "markdown",
   "metadata": {},
   "source": [
    "# Setup"
   ]
  },
  {
   "cell_type": "code",
   "metadata": {
    "ExecuteTime": {
     "end_time": "2024-06-23T19:25:17.960263Z",
     "start_time": "2024-06-23T19:25:17.952990Z"
    }
   },
   "source": [
    "import importlib\n",
    "import numpy as np\n",
    "import seaborn as sns\n",
    "import matplotlib.pyplot as plt\n",
    "\n",
    "from numpy.linalg import cond\n",
    "from typing import List\n",
    "\n",
    "# Matrixlib\n",
    "from matrixlib import preconditioning as precon\n",
    "from matrixlib.core import MatrixData, ValueProperties, BlockProperties"
   ],
   "outputs": [],
   "execution_count": 1
  },
  {
   "cell_type": "markdown",
   "metadata": {},
   "source": [
    "# Generate Synthetic Data\n",
    "Generate a set of `n` square symmetrical and positive semi matrices of dimensions `MATRIX_DIM` to RAM.\n",
    "\n",
    "## Define Constants\n",
    "The following constants are used throughout the rest of the notebook."
   ]
  },
  {
   "cell_type": "code",
   "metadata": {
    "ExecuteTime": {
     "end_time": "2024-06-23T19:25:19.021099Z",
     "start_time": "2024-06-23T19:25:19.018890Z"
    }
   },
   "source": [
    "MATRIX_DIM = 64\n",
    "NUMBER_OF_MATRICES = 100\n",
    "DIAGONAL_BAND_RADIUS = 10\n",
    "RNG_SEED = 42\n",
    "\n",
    "VALUE_COLORBAR = 'rocket'\n",
    "BLOCK_COLORBAR = 'flare'"
   ],
   "outputs": [],
   "execution_count": 2
  },
  {
   "cell_type": "code",
   "metadata": {
    "ExecuteTime": {
     "end_time": "2024-06-23T19:25:19.867568Z",
     "start_time": "2024-06-23T19:25:19.614710Z"
    }
   },
   "source": [
    "# Generate matrices\n",
    "bgr_noise_value_props = ValueProperties(density_range=(0.3, 0.5), value_range=(0.0, 0.5))\n",
    "noise_blk_value_props = ValueProperties(density_range=(0.3, 0.5), value_range=(0.3, 1.0))\n",
    "noise_blk_block_props = BlockProperties(size_range=(3, 32), size_average=10, size_std_dev=0.66, gap_chance=0.5)\n",
    "tdata_blk_value_props = ValueProperties(density_range=(0.5, 0.7), value_range=(0.3, 1.0))\n",
    "tdata_blk_block_props = BlockProperties(size_range=(2, 32), size_average=10, size_std_dev=0.66, gap_chance=0.0)\n",
    "\n",
    "test_data = MatrixData(\n",
    "        dimension=MATRIX_DIM,\n",
    "        band_radius=DIAGONAL_BAND_RADIUS,\n",
    "        sample_size=NUMBER_OF_MATRICES,\n",
    "        background_noise_value_properties=bgr_noise_value_props,\n",
    "        block_noise_value_properties=noise_blk_value_props,\n",
    "        block_noise_block_properties=noise_blk_block_props,\n",
    "        block_data_value_properties=tdata_blk_value_props,\n",
    "        block_data_block_properties=tdata_blk_block_props,\n",
    "        seed=42,\n",
    "        determinant_cutoff=0.01,\n",
    "        print_debug=False\n",
    "    )"
   ],
   "outputs": [],
   "execution_count": 3
  },
  {
   "cell_type": "code",
   "metadata": {
    "ExecuteTime": {
     "end_time": "2024-06-23T19:25:20.355895Z",
     "start_time": "2024-06-23T19:25:20.352890Z"
    }
   },
   "source": [
    "labels = test_data.tdata_blk_starts\n",
    "A_orig = test_data.matrices\n",
    "\n",
    "# Verify Shape\n",
    "print(f\"Test Matrices Shape: {A_orig.shape}, Test Labels Shape: {labels.shape}\")"
   ],
   "outputs": [
    {
     "name": "stdout",
     "output_type": "stream",
     "text": [
      "Test Matrices Shape: (100, 64, 64), Test Labels Shape: (100, 64)\n"
     ]
    }
   ],
   "execution_count": 4
  },
  {
   "cell_type": "markdown",
   "metadata": {},
   "source": [
    "# Create Preconditioner from predicted block starts\n",
    "### 1. Generate variants of the original matrix data as inversion targets (i.e. 'A' in 'Ax = b')"
   ]
  },
  {
   "cell_type": "code",
   "metadata": {
    "ExecuteTime": {
     "end_time": "2024-06-23T19:25:21.458923Z",
     "start_time": "2024-06-23T19:25:21.453895Z"
    }
   },
   "source": [
    "importlib.reload(precon)\n",
    "\n",
    "A_flip = precon.prepare_matrix(A_orig, mapping_type='flip')\n",
    "A_shift = precon.prepare_matrix(A_orig, mapping_type='shift')\n",
    "A_minmax = precon.prepare_matrix(A_orig, mapping_type='minmax')"
   ],
   "outputs": [],
   "execution_count": 5
  },
  {
   "metadata": {},
   "cell_type": "markdown",
   "source": "### 2. Invert Blocks (ensure non-singularity)"
  },
  {
   "metadata": {
    "ExecuteTime": {
     "end_time": "2024-06-23T19:25:22.433546Z",
     "start_time": "2024-06-23T19:25:22.421042Z"
    }
   },
   "cell_type": "code",
   "source": [
    "importlib.reload(precon)\n",
    "\n",
    "precs = precon.generate_block_jacobi_preconditioner(sparse_matrices=A_orig, block_start_indicators=labels, apply_inverse_minmax_norm=True)"
   ],
   "outputs": [
    {
     "name": "stdout",
     "output_type": "stream",
     "text": [
      "Block is singular, using pseudo-inverse for block    4 at indices 62:64\n",
      "Block is singular, using pseudo-inverse for block   35 at indices 62:64\n",
      "Block is singular, using pseudo-inverse for block   65 at indices 61:64\n",
      "Block is singular, using pseudo-inverse for block   66 at indices 60:64\n",
      "Block is singular, using pseudo-inverse for block   74 at indices 62:64\n",
      "Block is singular, using pseudo-inverse for block   75 at indices 60:64\n",
      "Block is singular, using pseudo-inverse for block   80 at indices 3:5\n",
      "Block is singular, using pseudo-inverse for block   88 at indices 60:64\n"
     ]
    }
   ],
   "execution_count": 6
  },
  {
   "metadata": {},
   "cell_type": "markdown",
   "source": "### 3. Analyze resulting data"
  },
  {
   "metadata": {
    "ExecuteTime": {
     "end_time": "2024-06-23T19:25:24.836742Z",
     "start_time": "2024-06-23T19:25:24.834733Z"
    }
   },
   "cell_type": "code",
   "source": [
    "# Check Condition Numbers\n",
    "TARGET_INDEX = 0\n",
    "\n",
    "# Select indices to analyze here \n",
    "ANALYTICS_TARGETS = [0, 1, 2, 3]"
   ],
   "outputs": [],
   "execution_count": 7
  },
  {
   "metadata": {
    "ExecuteTime": {
     "end_time": "2024-06-23T19:25:25.644085Z",
     "start_time": "2024-06-23T19:25:25.622920Z"
    }
   },
   "cell_type": "code",
   "source": [
    "\n",
    "print(f\"Analysing matrix at index [{TARGET_INDEX}]:\")\n",
    "print(\"-\" * 80)\n",
    "print(\"Condition number:\")\n",
    "print(\"-\" * 80)\n",
    "print(f\"original: {cond(A_orig[TARGET_INDEX]):12.2f}\")\n",
    "print(f\"flipped:  {cond(A_flip[TARGET_INDEX]):12.2f}\")\n",
    "print(f\"shifted:  {cond(A_shift[TARGET_INDEX]):12.2f}\")\n",
    "print(f\"minmax:   {cond(A_minmax[TARGET_INDEX]):12.2f}\")\n",
    "print(f\"precon:   {cond(precs[TARGET_INDEX]):12.2f}\")\n",
    "print(\"-\" * 80)\n",
    "print(\"Condition number Product:\")\n",
    "print(\"-\" * 80)\n",
    "print(f\"original: {cond(np.matmul(A_orig[TARGET_INDEX], precs[TARGET_INDEX])):12.2f}\")\n",
    "print(f\"flipped:  {cond(np.matmul(A_flip[TARGET_INDEX], precs[TARGET_INDEX])):12.2f}\")\n",
    "print(f\"shifted:  {cond(np.matmul(A_shift[TARGET_INDEX], precs[TARGET_INDEX])):12.2f}\")\n",
    "print(f\"minmax:   {cond(np.matmul(A_minmax[TARGET_INDEX], precs[TARGET_INDEX])):12.2f}\")\n",
    "print(\"-\" * 80)\n",
    "print(\"Frobenius norm of difference between preconditioner and inverse:\")\n",
    "print(\"-\" * 80)\n",
    "print(f\"original: {np.linalg.norm(precs[TARGET_INDEX] - np.linalg.inv(A_orig[TARGET_INDEX])):12.2f}\")\n",
    "print(f\"flipped:  {np.linalg.norm(precs[TARGET_INDEX] - np.linalg.inv(A_flip[TARGET_INDEX])):12.2f}\")\n",
    "print(f\"shifted:  {np.linalg.norm(precs[TARGET_INDEX] - np.linalg.inv(A_shift[TARGET_INDEX])):12.2f}\")\n",
    "print(f\"minmax:   {np.linalg.norm(precs[TARGET_INDEX] - np.linalg.inv(A_minmax[TARGET_INDEX])):12.2f}\")"
   ],
   "outputs": [
    {
     "name": "stdout",
     "output_type": "stream",
     "text": [
      "Analysing matrix at index [0]:\n",
      "--------------------------------------------------------------------------------\n",
      "Condition number:\n",
      "--------------------------------------------------------------------------------\n",
      "original:      3626.69\n",
      "flipped:        282.36\n",
      "shifted:     128859.25\n",
      "minmax:         425.78\n",
      "precon:          31.48\n",
      "--------------------------------------------------------------------------------\n",
      "Condition number Product:\n",
      "--------------------------------------------------------------------------------\n",
      "original:     67178.91\n",
      "flipped:       5346.10\n",
      "shifted:    2506137.50\n",
      "minmax:        8080.06\n",
      "--------------------------------------------------------------------------------\n",
      "Frobenius norm of difference between preconditioner and inverse:\n",
      "--------------------------------------------------------------------------------\n",
      "original:       318.74\n",
      "flipped:         44.23\n",
      "shifted:       2489.01\n",
      "minmax:          52.54\n"
     ]
    }
   ],
   "execution_count": 8
  },
  {
   "metadata": {
    "ExecuteTime": {
     "end_time": "2024-06-23T19:25:26.600986Z",
     "start_time": "2024-06-23T19:25:26.593226Z"
    }
   },
   "cell_type": "code",
   "source": [
    "print(f\"Shape of matrix data:           {A_orig.shape}\")\n",
    "print(f\"Shape of preconditioner data:   {precs.shape}\")\n",
    "\n",
    "for i in range(min(len(ANALYTICS_TARGETS), NUMBER_OF_MATRICES)):\n",
    "    print(\"-\" * 80)\n",
    "    print(f\"Condition number of matrix {ANALYTICS_TARGETS[i]:4d} (original):     {np.linalg.cond(A_orig[ANALYTICS_TARGETS[i]]):12.2f}\")\n",
    "    print(f\"Condition number of matrix {ANALYTICS_TARGETS[i]:4d} (flipped):      {np.linalg.cond(A_flip[ANALYTICS_TARGETS[i]]):12.2f}\")\n",
    "    print(f\"Condition number of matrix {ANALYTICS_TARGETS[i]:4d} (shifted):      {np.linalg.cond(A_shift[ANALYTICS_TARGETS[i]]):12.2f}\")\n",
    "    print(f\"Condition number of matrix {ANALYTICS_TARGETS[i]:4d} (minmax):       {np.linalg.cond(A_minmax[ANALYTICS_TARGETS[i]]):12.2f}\")\n",
    "    print(f\"Condition number of matrix {ANALYTICS_TARGETS[i]:4d} preconditioner: {np.linalg.cond(precs[ANALYTICS_TARGETS[i]]):12.2f}\")\n"
   ],
   "outputs": [
    {
     "name": "stdout",
     "output_type": "stream",
     "text": [
      "Shape of matrix data:           (100, 64, 64)\n",
      "Shape of preconditioner data:   (100, 64, 64)\n",
      "--------------------------------------------------------------------------------\n",
      "Condition number of matrix    0 (original):          3626.69\n",
      "Condition number of matrix    0 (flipped):            282.36\n",
      "Condition number of matrix    0 (shifted):         128859.25\n",
      "Condition number of matrix    0 (minmax):             425.78\n",
      "Condition number of matrix    0 preconditioner:        31.48\n",
      "--------------------------------------------------------------------------------\n",
      "Condition number of matrix    1 (original):           314.81\n",
      "Condition number of matrix    1 (flipped):            323.26\n",
      "Condition number of matrix    1 (shifted):           9097.94\n",
      "Condition number of matrix    1 (minmax):             233.43\n",
      "Condition number of matrix    1 preconditioner:        83.03\n",
      "--------------------------------------------------------------------------------\n",
      "Condition number of matrix    2 (original):           188.17\n",
      "Condition number of matrix    2 (flipped):            482.56\n",
      "Condition number of matrix    2 (shifted):           1732.62\n",
      "Condition number of matrix    2 (minmax):             362.30\n",
      "Condition number of matrix    2 preconditioner:        35.89\n",
      "--------------------------------------------------------------------------------\n",
      "Condition number of matrix    3 (original):           927.70\n",
      "Condition number of matrix    3 (flipped):            406.79\n",
      "Condition number of matrix    3 (shifted):           2532.21\n",
      "Condition number of matrix    3 (minmax):             328.19\n",
      "Condition number of matrix    3 preconditioner:        43.36\n"
     ]
    }
   ],
   "execution_count": 9
  },
  {
   "metadata": {
    "ExecuteTime": {
     "end_time": "2024-06-23T19:25:27.754647Z",
     "start_time": "2024-06-23T19:25:27.417902Z"
    }
   },
   "cell_type": "code",
   "source": [
    "# generate x axis vector\n",
    "x_vals = np.linspace(0, 1, num=NUMBER_OF_MATRICES)\n",
    "\n",
    "# plot condition numbers \n",
    "plt.figure(figsize=(16, 6))\n",
    "plt.scatter(x_vals, [np.linalg.cond(A_orig[i]) for i in range(A_orig.shape[0])], label='Original Matrix', marker='+')\n",
    "plt.scatter(x_vals, [np.linalg.cond(A_flip[i]) for i in range(A_flip.shape[0])], label='Prepared Matrix (flipped)', marker='x')\n",
    "plt.scatter(x_vals, [np.linalg.cond(A_shift[i]) for i in range(A_shift.shape[0])], label='Prepared Matrix (shifted)', marker='.')\n",
    "plt.scatter(x_vals, [np.linalg.cond(A_minmax[i]) for i in range(A_minmax.shape[0])], label='Prepared Matrix (minmax)', marker='*')\n",
    "plt.xlabel('Matrix Index')\n",
    "plt.ylabel('Condition Number (log scale)')\n",
    "plt.gca().set_yscale('log')\n",
    "plt.title('Condition Numbers of Original and Prepared Matrices')\n",
    "plt.legend()\n",
    "plt.show()"
   ],
   "outputs": [
    {
     "data": {
      "text/plain": [
       "<Figure size 1600x600 with 1 Axes>"
      ],
      "image/png": "[encoded data removed]"
     },
     "metadata": {},
     "output_type": "display_data"
    }
   ],
   "execution_count": 10
  },
  {
   "metadata": {},
   "cell_type": "markdown",
   "source": "# Run GMRES Solver with and without Preconditioner"
  },
  {
   "metadata": {
    "ExecuteTime": {
     "end_time": "2024-06-23T19:25:29.046284Z",
     "start_time": "2024-06-23T19:25:29.043263Z"
    }
   },
   "cell_type": "code",
   "source": [
    "importlib.reload(precon)\n",
    "\n",
    "# Generate solution value vector\n",
    "b = np.ones((NUMBER_OF_MATRICES, MATRIX_DIM))"
   ],
   "outputs": [],
   "execution_count": 11
  },
  {
   "metadata": {
    "ExecuteTime": {
     "end_time": "2024-06-23T19:26:01.286483Z",
     "start_time": "2024-06-23T19:25:29.969959Z"
    }
   },
   "cell_type": "code",
   "source": [
    "print(\"Running GMRES for raw test matrices without preconditioner\")\n",
    "x_no_precon_orig, info_no_precon_orig, iters_no_precon_orig, residuals_no_precon_orig = precon.solve_with_gmres_monitored(matrix=A_orig, b_vector=b)"
   ],
   "outputs": [
    {
     "name": "stdout",
     "output_type": "stream",
     "text": [
      "Running GMRES for raw test matrices without preconditioner\n",
      "(100, 64, 64)\n",
      "\n",
      "Without preconditioner:\n",
      "--------------------------------------------------------------------------------\n",
      "  Converged: 88 out of 100\n",
      "  Average iterations: 3980.00\n",
      "--------------------------------------------------------------------------------\n",
      "  iterations: [12800   589   617  3321  3025  6544  8593 12623  2201  7750   756  3160\n",
      "   719 12800  2577   443  2090  5916  3944  3777 12800  1708   992  2036\n",
      "  2890   611  1662  2150 12800   526   468   729  5587  8500   347 12800\n",
      "   601  7476  4312   642  1365   825  2941  2356 12800   300   746  1611\n",
      "  1502  2655  2676   509  1712 12800   757  2484  7535  1696  6171 12800\n",
      "  2122 12800  1403   744  6040 12800  3415  4792  6695   306   513  2482\n",
      "  1755 12800  1978  2878  8006   798   762  2275  3843   510   152   379\n",
      " 12800  1542   849  3977  5046   933  3790   582 10291  6427  1843   508\n",
      "  1978  2055  4551   457]\n"
     ]
    }
   ],
   "execution_count": 12
  },
  {
   "metadata": {
    "ExecuteTime": {
     "end_time": "2024-06-23T19:27:59.957723Z",
     "start_time": "2024-06-23T19:27:39.728861Z"
    }
   },
   "cell_type": "code",
   "source": [
    "print(\"Running GMRES for prepared matrices (flipped) without preconditioner\")\n",
    "x_no_precon_flip, info_no_precon_flip, iters_no_precon_flip, residuals_no_precon_flip = precon.solve_with_gmres_monitored(\n",
    "    matrix=A_flip, b_vector=b)"
   ],
   "outputs": [
    {
     "name": "stdout",
     "output_type": "stream",
     "text": [
      "Running GMRES for prepared matrices (flipped) without preconditioner\n",
      "(100, 64, 64)\n",
      "\n",
      "Without preconditioner:\n",
      "--------------------------------------------------------------------------------\n",
      "  Converged: 95 out of 100\n",
      "  Average iterations: 2550.53\n",
      "--------------------------------------------------------------------------------\n",
      "  iterations: [  943   482  1278   568  2086  1175   852   664 12800   170   604  4534\n",
      "   436  2079   759   390  1066   496   540 12800  2292   580   941  1323\n",
      "  1873   363   116  8428   658   888   307   392   313  6663 12800  3010\n",
      "  1771  1158  4890   586 12501   464   795 12800   392  1177   559  2838\n",
      "  1204 12800  1581  1227  6402   684  2789   747   862   192  4058  3428\n",
      "  1377  1509  1015   283  1612  3308   101  3131   637   502  2617   550\n",
      "  1960  1665  2183  4040   624  5456  1453   184   587  2884  1100  4117\n",
      "  9060   334  1302  1028   820 10222  2933  1098   927  2714  3746  6528\n",
      "  2239  1208  5217  1208]\n"
     ]
    }
   ],
   "execution_count": 13
  },
  {
   "metadata": {
    "ExecuteTime": {
     "end_time": "2024-06-23T18:49:20.663355Z",
     "start_time": "2024-06-23T18:49:10.936453Z"
    }
   },
   "cell_type": "code",
   "source": [
    "print(\"Running GMRES for prepared matrices (shifted) without preconditioner\")\n",
    "x_no_precon_shift, info_no_precon_shift, iters_no_precon_shift, residuals_no_precon_shift = precon.solve_with_gmres_monitored(\n",
    "    matrix=A_shift, b_vector=b)"
   ],
   "outputs": [
    {
     "name": "stdout",
     "output_type": "stream",
     "text": [
      "Running GMRES for prepared matrices (shifted) without preconditioner\n",
      "(100, 64, 64)\n",
      "\n",
      "Without preconditioner:\n",
      "--------------------------------------------------------------------------------\n",
      "  Converged: 98 out of 100\n",
      "  Average iterations: 1165.92\n",
      "--------------------------------------------------------------------------------\n",
      "  iterations: [12800  5662  1074  1697    99   511    39   386   295  6604   550   203\n",
      "   266  1005    46  1431    66   293    78  1451   243   113    92  6966\n",
      "   160  1186   304    60   365   441   471   627   296   118  3303   194\n",
      "  2185   298   117   224   328   222   314   440   145    65  6068   281\n",
      "   771   259   631   324   172   367   483  2458   545   239   932   699\n",
      "   633   311    71  6946  1346   147   528  1500   121   764  1351   255\n",
      "   165    55    65   119    98   698   520   677   208  1193   494   105\n",
      "   390   205 12800   572   145   161  2023   180   233   352 10345   422\n",
      "   234   783   832   483]\n"
     ]
    }
   ],
   "execution_count": 39
  },
  {
   "metadata": {
    "ExecuteTime": {
     "end_time": "2024-06-23T18:50:19.246846Z",
     "start_time": "2024-06-23T18:49:53.713314Z"
    }
   },
   "cell_type": "code",
   "source": [
    "print(\"Running GMRES for prepared matrices (minmax) without preconditioner\")\n",
    "x_no_precon_minmax, info_no_precon_minmax, iters_no_precon_minmax, residuals_no_precon_minmax = precon.solve_with_gmres_monitored(\n",
    "    matrix=A_minmax, b_vector=b)"
   ],
   "outputs": [
    {
     "name": "stdout",
     "output_type": "stream",
     "text": [
      "Running GMRES for prepared matrices (minmax) without preconditioner\n",
      "(100, 64, 64)\n",
      "\n",
      "Without preconditioner:\n",
      "--------------------------------------------------------------------------------\n",
      "  Converged: 92 out of 100\n",
      "  Average iterations: 3151.96\n",
      "--------------------------------------------------------------------------------\n",
      "  iterations: [  794   429  1234   751  2975  1751  1227  1670  4156   734  1148 12800\n",
      "  1768  1714   700   607  2627   419   374 12800   464  4098   998  5003\n",
      "  1652   734 12800   280  5779  2549  1290  1625   747  1979  1371   401\n",
      "   358  2903  2231   397   943 10504  8078   622   694   961   467   335\n",
      "  4396  5030  3426  5522  1836  2415  9840   372  3544  1851   303   403\n",
      " 12800  3608  1964  1221  1619   504 12800 12800  2478  3706   352   652\n",
      "  1622  2323  2489   227  2099 11171   561  1578  5081  5380  3532   419\n",
      " 12800   549   587  1583 12800  3009  6174  1233  2779  2550  4566   852\n",
      "  2182  1387  9785  1495]\n"
     ]
    }
   ],
   "execution_count": 40
  },
  {
   "metadata": {
    "ExecuteTime": {
     "end_time": "2024-06-23T18:50:54.235683Z",
     "start_time": "2024-06-23T18:50:22.222402Z"
    }
   },
   "cell_type": "code",
   "source": [
    "print(\"Running GMRES for raw test matrices with preconditioner base on test matrices\")\n",
    "x_precon_orig, info_precon_orig, iters_precon_orig, residuals_precon_orig = precon.solve_with_gmres_monitored(\n",
    "    matrix=A_orig, b_vector=b, preconditioner=precs)"
   ],
   "outputs": [
    {
     "name": "stdout",
     "output_type": "stream",
     "text": [
      "Running GMRES for raw test matrices with preconditioner base on test matrices\n",
      "(100, 64, 64)\n",
      "\n",
      "With preconditioner:\n",
      "--------------------------------------------------------------------------------\n",
      "  Converged: 82 out of 100\n",
      "  Average iterations: 3824.40\n",
      "--------------------------------------------------------------------------------\n",
      "  iterations: [ 7775   418   479  1779  1659  2760  3199  5980 12800  3903   657  1215\n",
      "   588 12800  1546   338  1380  3420  1986  9595  9733   893  3532  1063\n",
      "  2015 12800   800  1735 12800   297   558   609  2151  6131   275 12800\n",
      " 12800  2642 12800   640   798   760  1398  1109 12800   340   523   840\n",
      "   855  1266  1318   540  1093 12800   573  1466  3504   634  2695  8418\n",
      "   965 12800   997   637 12800 12800  1658  2378  3123   314   369  1439\n",
      "  1035 12800  1112 12800  3708   532   390  1460  1819   471   199   260\n",
      " 12800  1395   620  1640  2913   829  2052 12800 12800  2735  1251  2000\n",
      "  1364  1077 12800  1417]\n"
     ]
    }
   ],
   "execution_count": 41
  },
  {
   "metadata": {
    "ExecuteTime": {
     "end_time": "2024-06-23T18:51:26.297741Z",
     "start_time": "2024-06-23T18:51:05.501743Z"
    }
   },
   "cell_type": "code",
   "source": [
    "print(\"Running GMRES for prepared matrices (flipped) with preconditioner base on test matrices\")\n",
    "x_precon_flip, info_precon_flip, iters_precon_flip, residuals_precon_flip = precon.solve_with_gmres_monitored(\n",
    "    matrix=A_flip, b_vector=b, preconditioner=precs)"
   ],
   "outputs": [
    {
     "name": "stdout",
     "output_type": "stream",
     "text": [
      "Running GMRES for prepared matrices (flipped) with preconditioner base on test matrices\n",
      "(100, 64, 64)\n",
      "\n",
      "With preconditioner:\n",
      "--------------------------------------------------------------------------------\n",
      "  Converged: 90 out of 100\n",
      "  Average iterations: 2492.48\n",
      "--------------------------------------------------------------------------------\n",
      "  iterations: [  826   380   766   475  1080   638   440   520 12800   164   618  2244\n",
      "   449  2090   628   336   580   483   448 12800  1200   398   879  1190\n",
      "   975  2560   126  3470   517   573   640   320   310  3044 12800  1439\n",
      " 12800   915  2195   515  5616   418   560  6759   297   560   412  2227\n",
      "   648  8877   938   632  2370 12800  1812   368  1453   234  1619  1443\n",
      "   999  1960   844   306 12800  2037   114  1479   460   358  1317   359\n",
      "  1259   980  1419 12800   637  3160  1053   197   413  1513  1018  2793\n",
      "  4660   359   692   655 12800  6860  1657   555   646  2075  2075 12800\n",
      "  1109   756  2800 12800]\n"
     ]
    }
   ],
   "execution_count": 42
  },
  {
   "metadata": {
    "ExecuteTime": {
     "end_time": "2024-06-23T18:51:46.207920Z",
     "start_time": "2024-06-23T18:51:32.086281Z"
    }
   },
   "cell_type": "code",
   "source": [
    "print(\"Running GMRES for prepared matrices (shifted) with preconditioner base on test matrices\")\n",
    "x_precon_shift, info_precon_shift, iters_precon_shift, residuals_precon_shift = precon.solve_with_gmres_monitored(\n",
    "    matrix=A_shift, b_vector=b, preconditioner=precs)"
   ],
   "outputs": [
    {
     "name": "stdout",
     "output_type": "stream",
     "text": [
      "Running GMRES for prepared matrices (shifted) with preconditioner base on test matrices\n",
      "(100, 64, 64)\n",
      "\n",
      "With preconditioner:\n",
      "--------------------------------------------------------------------------------\n",
      "  Converged: 93 out of 100\n",
      "  Average iterations: 1682.99\n",
      "--------------------------------------------------------------------------------\n",
      "  iterations: [ 5543  2692   671  1048   113   507    62   303 12786  3458   603   189\n",
      "   280   725    62   817   305   293    88  1365   249   142   161  3543\n",
      "   165 12786   276    83   312   456   371   635   303   152  2260   272\n",
      " 12786   205 12785   406   223   246   252   300   198    93  4146   340\n",
      "   456   242   595   259   164  1706   353  1101   286   252   523   605\n",
      "   598  5246    85  3562   937   225   379   871   161   694   637   273\n",
      "   170 12778    76 12789   114   451   308   482   233   603   495   128\n",
      "   335   245  9385   392 12785   201  1145   166   260   305  5463   328\n",
      "   238   421   958   779]\n"
     ]
    }
   ],
   "execution_count": 43
  },
  {
   "metadata": {
    "ExecuteTime": {
     "end_time": "2024-06-23T18:52:19.634471Z",
     "start_time": "2024-06-23T18:51:51.439924Z"
    }
   },
   "cell_type": "code",
   "source": [
    "print(\"Running GMRES for prepared matrices (minmax) with preconditioner base on test matrices\")\n",
    "x_precon_minmax, info_precon_minmax, iters_precon_minmax, residuals_precon_minmax = precon.solve_with_gmres_monitored(\n",
    "    matrix=A_minmax, b_vector=b, preconditioner=precs)"
   ],
   "outputs": [
    {
     "name": "stdout",
     "output_type": "stream",
     "text": [
      "Running GMRES for prepared matrices (minmax) with preconditioner base on test matrices\n",
      "(100, 64, 64)\n",
      "\n",
      "With preconditioner:\n",
      "--------------------------------------------------------------------------------\n",
      "  Converged: 86 out of 100\n",
      "  Average iterations: 3345.99\n",
      "--------------------------------------------------------------------------------\n",
      "  iterations: [  712   332   759   567  1987   975   906  1038 12800   516   719  5920\n",
      "  1279  1520   594   417  2220   387   323 12800   410  2472   857  2726\n",
      "   808 12800  8726   637  3480  1876   844  1246   654  1296   660   340\n",
      " 12800  1114 12800   636   377 12800  3503   338   560   834   340   325\n",
      "  1839  2509  2084  2393  1276  2640  4914   344  1840  1089   205   399\n",
      " 12800 12800  1157   775 12800   820 12277  7458  1262  2660   334   489\n",
      "  1234 12800  1639 12800  1426 12800   516  2111  2760  3087  2140   332\n",
      " 11340   560   440   922 12800  1034  3063  2092  1220  1237  2960  2097\n",
      "  1237  1000 12800  5958]\n"
     ]
    }
   ],
   "execution_count": 44
  },
  {
   "metadata": {
    "ExecuteTime": {
     "end_time": "2024-06-23T17:39:26.609055Z",
     "start_time": "2024-06-23T17:39:26.597536Z"
    }
   },
   "cell_type": "code",
   "source": [
    "def print_residual_analytics(target_mat: np.ndarray, x_precon: np.ndarray, x_no_precon: np.ndarray, b_vec: np.ndarray, title: str) -> None:\n",
    "    # precalculate some norms\n",
    "    norm_b = [np.linalg.norm(b_vec[i]) for i in range(NUMBER_OF_MATRICES)]\n",
    "    \n",
    "    rel_residuals_precon = [np.linalg.norm(b[i] - target_mat[i] @ x_precon[i]) / norm_b[i] for i in range(NUMBER_OF_MATRICES)]\n",
    "    rel_residuals_no_precon = [np.linalg.norm(b[i] - target_mat[i] @ x_no_precon[i]) / norm_b[i] for i in range(NUMBER_OF_MATRICES)]\n",
    "    \n",
    "    print(f\"Relative residual for '{title}' matrices (min/max/mean):\")\n",
    "    print(f\"  Without preconditioner:      \"\n",
    "          f\"{np.min(rel_residuals_no_precon):.2e}          \"\n",
    "          f\"{np.max(rel_residuals_no_precon):.2e}          \"\n",
    "          f\"{np.mean(rel_residuals_no_precon):.2e}\")\n",
    "    print(f\"  With preconditioner:         \"\n",
    "          f\"{np.min(rel_residuals_precon):.2e}          \"\n",
    "          f\"{np.max(rel_residuals_precon):.2e}          \"\n",
    "          f\"{np.mean(rel_residuals_precon):.2e}\")\n",
    "\n",
    "\n",
    "print_residual_analytics(A_orig, x_precon_orig, x_no_precon_orig, b, \"original\")\n",
    "print_residual_analytics(A_flip, x_precon_flip, x_no_precon_flip, b, \"flipped\")\n",
    "print_residual_analytics(A_shift, x_precon_shift, x_no_precon_shift, b, \"shifted\")\n",
    "print_residual_analytics(A_minmax, x_precon_minmax, x_no_precon_minmax, b, \"minmax\")\n"
   ],
   "outputs": [
    {
     "name": "stdout",
     "output_type": "stream",
     "text": [
      "Relative residual for 'original' matrices (min/max/mean):\n",
      "  Without preconditioner:      9.95e-04          3.59e-03          1.26e-03\n",
      "  With preconditioner:         5.60e-04          1.21e-01          1.29e-02\n",
      "Relative residual for 'flipped' matrices (min/max/mean):\n",
      "  Without preconditioner:      9.92e-04          9.30e-03          1.83e-03\n",
      "  With preconditioner:         8.01e-04          4.79e-03          1.33e-03\n",
      "Relative residual for 'shifted' matrices (min/max/mean):\n",
      "  Without preconditioner:      9.56e-04          1.18e-03          1.01e-03\n",
      "  With preconditioner:         9.56e-04          1.18e-03          1.01e-03\n",
      "Relative residual for 'minmax' matrices (min/max/mean):\n",
      "  Without preconditioner:      9.94e-04          1.00e-03          9.98e-04\n",
      "  With preconditioner:         9.54e-04          2.43e-02          3.31e-03\n"
     ]
    }
   ],
   "execution_count": 22
  },
  {
   "metadata": {},
   "cell_type": "code",
   "source": [
    "# Calculate statistics for iteration counts\n",
    "def iter_stats(iters):\n",
    "    return {\n",
    "        'min': np.min(iters),\n",
    "        'max': np.max(iters),\n",
    "        'mean': np.mean(iters),\n",
    "        'median': np.median(iters)\n",
    "    }\n",
    "\n",
    "# Print statistics\n",
    "print(\"Iteration count statistics without preconditioner:\")\n",
    "print(\"-\" * 80)\n",
    "print(f\"Original: {iter_stats(iters_no_precon_orig)}\")\n",
    "print(f\"Flipped:  {iter_stats(iters_no_precon_flip)}\")\n",
    "print(f\"Shifted:  {iter_stats(iters_no_precon_shift)}\")\n",
    "print(f\"Minmax:   {iter_stats(iters_no_precon_minmax)}\")\n",
    "print(\"-\" * 80)\n",
    "print(\"Iteration count statistics with preconditioner:\")\n",
    "print(\"-\" * 80)\n",
    "print(f\"Original: {iter_stats(iters_precon_orig)}\")\n",
    "print(f\"Flipped:  {iter_stats(iters_precon_flip)}\")\n",
    "print(f\"Shifted:  {iter_stats(iters_precon_shift)}\")\n",
    "print(f\"Minmax:   {iter_stats(iters_precon_minmax)}\")\n",
    "print(\"-\" * 80)\n",
    "\n",
    "# Define some arrays\n",
    "result_data_list = [\n",
    "    iters_no_precon_orig,\n",
    "    iters_no_precon_flip,\n",
    "    iters_no_precon_shift,\n",
    "    iters_no_precon_minmax,\n",
    "    iters_precon_orig,\n",
    "    iters_precon_flip,\n",
    "    iters_precon_shift,\n",
    "    iters_precon_minmax,\n",
    "]\n",
    "result_data_labels_long = [\n",
    "    'Original (no precon)',\n",
    "    'Flipped (no precon)',\n",
    "    'Shifted (no precon)',\n",
    "    'Minmax (no precon)',\n",
    "    'Original (with precon)',\n",
    "    'Flipped (with precon)',\n",
    "    'Shifted (with precon)',\n",
    "    'Minmax (with precon)'\n",
    "]\n",
    "result_data_labels_stacked = [\n",
    "    'Original\\n(no precon)',\n",
    "    'Flipped\\n(no precon)',\n",
    "    'Shifted\\n(no precon)',\n",
    "    'Minmax\\n(no precon)',\n",
    "    'Original\\n(with precon)',\n",
    "    'Flipped\\n(with precon)',\n",
    "    'Shifted\\n(with precon)',\n",
    "    'Minmax\\n(with precon)'\n",
    "]\n",
    "\n",
    "# Create box plots\n",
    "plt.figure(figsize=(10, 6))\n",
    "bp = plt.boxplot(result_data_list, tick_labels=result_data_labels_stacked)\n",
    "\n",
    "plt.title('GMRES Iteration Counts Comparison')\n",
    "plt.ylabel('Number of Iterations')\n",
    "plt.grid(True, axis='y', linestyle='--', alpha=0.7)\n",
    "\n",
    "# Add some jitter to the data points\n",
    "for i, data in enumerate(result_data_list, 1):\n",
    "    x = np.random.normal(i, 0.04, size=len(data))\n",
    "    plt.plot(x, data, 'r.', alpha=0.2)\n",
    "\n",
    "plt.tight_layout()\n",
    "plt.show()\n",
    "\n",
    "# Histogram\n",
    "plt.figure(figsize=(8, 4))\n",
    "plt.hist(result_data_list, label=result_data_labels_long, bins=20, alpha=0.7)\n",
    "plt.xlabel('Number of Iterations')\n",
    "plt.ylabel('Frequency')\n",
    "plt.title('Distribution of GMRES Iteration Counts')\n",
    "plt.legend()\n",
    "plt.grid(True, linestyle='--', alpha=0.7)\n",
    "plt.tight_layout()\n",
    "plt.show()"
   ],
   "outputs": [],
   "execution_count": null
  },
  {
   "cell_type": "code",
   "metadata": {},
   "source": [
    "# Function to plot matrices\n",
    "def plot_matrices(matrices: List[np.ndarray], titles: List[str], colorbar: str = VALUE_COLORBAR) -> None:\n",
    "    num_matrices = len(matrices)\n",
    "    fig, axes = plt.subplots(1, num_matrices, figsize=(6 * num_matrices, 5))\n",
    "\n",
    "    for i, (matrix, title) in enumerate(zip(matrices, titles)):\n",
    "        ax = axes[i] if num_matrices > 1 else axes\n",
    "        sns.heatmap(matrix, cmap=colorbar, ax=ax, cbar=True, square=True)\n",
    "        ax.set_title(title)\n",
    "        ax.set_xticks([])\n",
    "        ax.set_yticks([])\n",
    "\n",
    "    plt.tight_layout()\n",
    "    plt.show()\n",
    "    \n",
    "# Plot matrices\n",
    "for i in range(len(ANALYTICS_TARGETS)):\n",
    "    index = ANALYTICS_TARGETS[i]\n",
    "    plot_matrices(\n",
    "        [A_orig[index], A_flip[index], A_shift[index], precs[index], np.matmul(A_flip[index], precs[index])], \n",
    "        ['Original Matrix', 'Flipped Matrix', 'Shifted Matrix', 'Preconditioner', 'Product'], \n",
    "        colorbar='coolwarm'\n",
    "    )"
   ],
   "outputs": [],
   "execution_count": null
  },
  {
   "metadata": {},
   "cell_type": "markdown",
   "source": "End of notebook."
  }
 ],
 "metadata": {
  "accelerator": "GPU",
  "colab": {
   "gpuType": "T4",
   "provenance": []
  },
  "kernelspec": {
   "display_name": "Python 3 (ipykernel)",
   "language": "python",
   "name": "python3"
  },
  "language_info": {
   "codemirror_mode": {
    "name": "ipython",
    "version": 3
   },
   "file_extension": ".py",
   "mimetype": "text/x-python",
   "name": "python",
   "nbconvert_exporter": "python",
   "pygments_lexer": "ipython3",
   "version": "3.12.3"
  }
 },
 "nbformat": 4,
 "nbformat_minor": 4
}
