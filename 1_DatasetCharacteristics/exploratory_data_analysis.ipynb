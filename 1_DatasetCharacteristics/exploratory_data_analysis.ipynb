{
 "cells": [
  {
   "cell_type": "markdown",
   "metadata": {},
   "source": [
    "# Exploratory Data Analysis (EDA)\n",
    "\n",
    "Since we generate synthetic data for our model we use a different table of contents compared to the template.\n",
    "\n",
    "## Table of Contents\n",
    "1. [Notebook Preparation](#notebook-preparation)\n",
    "2. [Data Generation](#data-generation)\n",
    "3. [Data Visualisation](#data-visualisation)\n",
    "4. [Data Size-Reduction](#data-size-reduction)\n",
    "5. [Data Statistics](#data-statistics)\n"
   ]
  },
  {
   "metadata": {},
   "cell_type": "markdown",
   "source": [
    "## Notebook Preparation\n",
    "\n",
    "If run remotely (e.g. on Google colab) we need to install some packages and also download our libraries"
   ]
  },
  {
   "cell_type": "code",
   "execution_count": null,
   "metadata": {},
   "outputs": [],
   "source": [
    "# Use this to install potential missing packages\n",
    "# %pip install seaborn"
   ]
  },
  {
   "metadata": {},
   "cell_type": "code",
   "outputs": [],
   "execution_count": null,
   "source": [
    "# Use this to download the matrix library from GitHub\n",
    "# TODO: provide packaged matrixlib via GitHub"
   ]
  },
  {
   "metadata": {},
   "cell_type": "code",
   "outputs": [],
   "execution_count": null,
   "source": [
    "import numpy as np\n",
    "import matplotlib.pyplot as plt\n",
    "import seaborn as sns\n",
    "\n",
    "import importlib\n",
    "\n",
    "import matrixlib as mxl"
   ]
  },
  {
   "cell_type": "markdown",
   "metadata": {},
   "source": [
    "## Data Generation\n",
    "\n",
    "[Generate one or more small datasets (n ~10 to 100) to showcase the properties of the matrices]"
   ]
  },
  {
   "cell_type": "code",
   "execution_count": null,
   "metadata": {},
   "outputs": [],
   "source": "# TODO: implement/copy from matrix_data_generation.ipynb"
  },
  {
   "cell_type": "markdown",
   "metadata": {},
   "source": [
    "## Data Visualisation\n",
    "\n",
    "[Present the matrices and their sub-components (blocks/noise).]\n"
   ]
  },
  {
   "cell_type": "code",
   "execution_count": null,
   "metadata": {},
   "outputs": [],
   "source": "# TODO: implement/copy from matrix_data_generation.ipynb"
  },
  {
   "cell_type": "markdown",
   "metadata": {},
   "source": [
    "## Data Size-Reduction\n",
    "\n",
    "[Present the memory footprint reduction by using bands instead of the full matrix.]\n"
   ]
  },
  {
   "cell_type": "code",
   "execution_count": null,
   "metadata": {},
   "outputs": [],
   "source": "# TODO: implement/copy from matrix_data_generation.ipynb"
  },
  {
   "cell_type": "markdown",
   "metadata": {},
   "source": [
    "## Data Statistics\n",
    "\n",
    "[Investigate the data for their statistical properties (esp. avg values, spread, etc.) and compare those with the parameters provided.]\n"
   ]
  },
  {
   "cell_type": "code",
   "execution_count": null,
   "metadata": {},
   "outputs": [],
   "source": "# TODO: implement"
  }
 ],
 "metadata": {
  "kernelspec": {
   "display_name": "Python 3",
   "language": "python",
   "name": "python3"
  },
  "language_info": {
   "name": "python",
   "version": "3.8.0"
  }
 },
 "nbformat": 4,
 "nbformat_minor": 2
}
