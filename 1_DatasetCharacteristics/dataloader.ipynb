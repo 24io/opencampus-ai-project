{
 "cells": [
  {
   "cell_type": "code",
   "execution_count": 1,
   "metadata": {},
   "outputs": [],
   "source": [
    "%%capture\n",
    "%pip install tensorflow numpy matplotlib pandas scikit-learn seaborn"
   ]
  },
  {
   "cell_type": "code",
   "execution_count": 2,
   "metadata": {},
   "outputs": [
    {
     "name": "stderr",
     "output_type": "stream",
     "text": [
      "2024-05-31 12:06:06.280889: I tensorflow/core/platform/cpu_feature_guard.cc:210] This TensorFlow binary is optimized to use available CPU instructions in performance-critical operations.\n",
      "To enable the following instructions: AVX2 FMA, in other operations, rebuild TensorFlow with the appropriate compiler flags.\n",
      "2024-05-31 12:06:07.957870: W tensorflow/compiler/tf2tensorrt/utils/py_utils.cc:38] TF-TRT Warning: Could not find TensorRT\n"
     ]
    }
   ],
   "source": [
    "import tensorflow as tf\n",
    "import pathlib\n",
    "from typing import Tuple"
   ]
  },
  {
   "cell_type": "markdown",
   "metadata": {},
   "source": [
    "**Create Dataset Class to stream images from directory**"
   ]
  },
  {
   "cell_type": "code",
   "execution_count": null,
   "metadata": {},
   "outputs": [],
   "source": [
    "# Define Dataset Class\n",
    "import tensorflow as tf\n",
    "import pathlib\n",
    "from typing import Tuple\n",
    "\n",
    "class MatrixDataset:\n",
    "    def __init__(self, data_dir: str, batch_size: int, img_size: Tuple[int, int] = (64, 64)):\n",
    "        \"\"\"\n",
    "        Initializes the MatrixDataset.\n",
    "\n",
    "        Args:\n",
    "            data_dir (str): Directory where PNG images are stored.\n",
    "            img_size (Tuple[int, int]): Desired image size (height, width).\n",
    "            batch_size (int): Batch size for the dataset.\n",
    "        \"\"\"\n",
    "        self.data_dir = pathlib.Path(data_dir)\n",
    "        self.img_size = img_size\n",
    "        self.batch_size = batch_size\n",
    "    \n",
    "    def _load_and_preprocess_image(self, file_path: str) -> tf.Tensor:\n",
    "        \"\"\"\n",
    "        Loads and processes a PNG image.\n",
    "\n",
    "        Args:\n",
    "            file_path (str): Path to the PNG image.\n",
    "\n",
    "        Returns:\n",
    "            tf.Tensor: Preprocessed image tensor.\n",
    "        \"\"\"\n",
    "        try:\n",
    "            img = tf.io.read_file(file_path)\n",
    "            img = tf.image.decode_png(img, channels=4)\n",
    "            img = tf.image.resize(img, self.img_size)\n",
    "            img = tf.cast(img, tf.float32) / 255.0  # Normalize to [0, 1]\n",
    "            return img\n",
    "        except Exception as e:\n",
    "            raise RuntimeError(f\"Error loading and preprocessing image {file_path}: {e}\")\n",
    "    \n",
    "    def _get_label(self, file_path: str) -> str:\n",
    "        \"\"\"\n",
    "        Extracts the label from the file path. Assumes that images are stored in subdirectories named after their labels.\n",
    "\n",
    "        Args:\n",
    "            file_path (str): Path to the PNG image.\n",
    "\n",
    "        Returns:\n",
    "            str: Label of the image in hexadecimal format.\n",
    "        \"\"\"\n",
    "        try:\n",
    "            return file_path.parent.name\n",
    "        except Exception as e:\n",
    "            raise RuntimeError(f\"Error extracting label from {file_path}: {e}\")\n",
    "    \n",
    "    def _hex_to_int(self, hex_str: str) -> int:\n",
    "        \"\"\"\n",
    "        Converts a hexadecimal string to an integer.\n",
    "\n",
    "        Args:\n",
    "            hex_str (str): Hexadecimal string.\n",
    "\n",
    "        Returns:\n",
    "            int: Integer representation of the hexadecimal string.\n",
    "        \"\"\"\n",
    "        try:\n",
    "            return int(hex_str, 16)\n",
    "        except ValueError as e:\n",
    "            raise RuntimeError(f\"Error converting hex string to int: {hex_str}: {e}\")\n",
    "    \n",
    "    \n",
    "    def _load_and_preprocess_from_path_label(self, file_path: str) -> Tuple[tf.Tensor, tf.Tensor]:\n",
    "        \"\"\"\n",
    "        Loads and preprocesses an image and its label.\n",
    "\n",
    "        Args:\n",
    "            file_path (str): Path to the image file.\n",
    "\n",
    "        Returns:\n",
    "            Tuple[tf.Tensor, tf.Tensor]: Preprocessed image and label tensor.\n",
    "        \"\"\"\n",
    "        label = self._get_label(file_path)\n",
    "        label = self._hex_to_int(label)\n",
    "        label = tf.convert_to_tensor(label, dtype=tf.int32)\n",
    "        image = self._load_and_preprocess_image(file_path)\n",
    "        return image, label\n",
    "        \n",
    "    def create_dataset(self) -> tf.data.Dataset:\n",
    "        \"\"\"\n",
    "        Creates a tf.data.Dataset from the PNG images in the data directory.\n",
    "\n",
    "        Returns:\n",
    "            tf.data.Dataset: Dataset object containing processed images and labels.\n",
    "        \"\"\"\n",
    "        try:\n",
    "            list_ds = tf.data.Dataset.list_files(str(self.data_dir / '*/*.png'))\n",
    "            # Apply the _load_and_preprocess_from_path_label method to each file path in the dataset \n",
    "            labeled_ds = list_ds.map(lambda x: self._load_and_preprocess_from_path_label(x), num_parallel_calls=tf.data.experimental.AUTOTUNE) # Optimise number of parallel calls based on available CPU\n",
    "            # Shuffle, batch, and prefetch the dataset for optimal performance (loading and training simultaneously)\n",
    "            dataset = labeled_ds.shuffle(buffer_size=100).batch(self.batch_size).prefetch(buffer_size=tf.data.experimental.AUTOTUNE)\n",
    "            return dataset\n",
    "        except Exception as e:\n",
    "            raise RuntimeError(f\"Error creating dataset: {e}\")\n",
    "\n",
    "# Usage example:\n",
    "# dataset = MatrixDataset(data_dir='path/to/pngs', img_size=(64, 64), batch_size=32)\n",
    "# train_dataset = dataset.create_dataset()"
   ]
  },
  {
   "cell_type": "markdown",
   "metadata": {},
   "source": [
    "*Load Datasets*"
   ]
  },
  {
   "cell_type": "code",
   "execution_count": null,
   "metadata": {},
   "outputs": [],
   "source": []
  }
 ],
 "metadata": {
  "kernelspec": {
   "display_name": "web3venv",
   "language": "python",
   "name": "python3"
  },
  "language_info": {
   "codemirror_mode": {
    "name": "ipython",
    "version": 3
   },
   "file_extension": ".py",
   "mimetype": "text/x-python",
   "name": "python",
   "nbconvert_exporter": "python",
   "pygments_lexer": "ipython3",
   "version": "3.12.3"
  }
 },
 "nbformat": 4,
 "nbformat_minor": 2
}
