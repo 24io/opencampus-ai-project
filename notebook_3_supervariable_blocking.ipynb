{
 "cells": [
  {
   "cell_type": "markdown",
   "metadata": {},
   "source": [
    "# Setup"
   ]
  },
  {
   "cell_type": "code",
   "metadata": {
    "ExecuteTime": {
     "end_time": "2024-07-27T21:28:47.491465Z",
     "start_time": "2024-07-27T21:28:47.474511Z"
    }
   },
   "source": [
    "import os\n",
    "os.environ['TF_CPP_MIN_LOG_LEVEL'] = '2'\n",
    "os.environ['CUDA_VISIBLE_DEVICES'] = '0'\n",
    "\n",
    "import random\n",
    "import datetime\n",
    "import importlib\n",
    "import numpy as np\n",
    "import pandas as pd\n",
    "import seaborn as sns\n",
    "import tensorflow as tf\n",
    "import matplotlib.pyplot as plt\n",
    "\n",
    "# Matrixlib\n",
    "import matrixkit.block as blk\n",
    "import matrixkit.preconditioning as prec\n",
    "\n",
    "# Modellib\n",
    "import modellib.train\n",
    "import modellib.evaluate as eval\n",
    "import modellib.io as io\n",
    "\n",
    "from numpy.linalg import cond\n",
    "from typing import List, Tuple"
   ],
   "outputs": [],
   "execution_count": 3
  },
  {
   "metadata": {},
   "cell_type": "markdown",
   "source": "# Load test matrices and true block starts"
  },
  {
   "metadata": {
    "ExecuteTime": {
     "end_time": "2024-07-27T21:28:55.321467Z",
     "start_time": "2024-07-27T21:28:55.292478Z"
    }
   },
   "cell_type": "code",
   "source": [
    "# Reading original test matrices \n",
    "test_matrices = np.load(\"data/matrices/test_matrices_64x64_200.npy\")\n",
    "print(f\"Loaded Matrices Shape: {test_matrices.shape}\")\n",
    "\n",
    "# Reading the test dataset (bands and labels)\n",
    "_, true_blocks = io.read_from_hdf5(\"data/datasets/test_dataset_64_200.h5\")\n",
    "print(f\"Test labels shape: {true_blocks.shape}\")"
   ],
   "outputs": [
    {
     "name": "stdout",
     "output_type": "stream",
     "text": [
      "Loaded Matrices Shape: (200, 64, 64)\n",
      "Test labels shape: (200, 64)\n"
     ]
    }
   ],
   "execution_count": 4
  },
  {
   "metadata": {},
   "cell_type": "markdown",
   "source": "# Identify Block Starts with Supervariable Blocking Alorithm\n"
  },
  {
   "metadata": {
    "ExecuteTime": {
     "end_time": "2024-07-27T21:34:36.918682Z",
     "start_time": "2024-07-27T21:34:35.665609Z"
    }
   },
   "cell_type": "code",
   "source": [
    "# Run algorithm for varying block sizes\n",
    "svb_blocks_max_4 = blk.supervariable_blocking(test_matrices, 4)\n",
    "svb_blocks_max_8 = blk.supervariable_blocking(test_matrices, 8)\n",
    "svb_blocks_max_16 = blk.supervariable_blocking(test_matrices, 16)\n",
    "svb_blocks_max_32 = blk.supervariable_blocking(test_matrices, 32)\n",
    "\n",
    "# Verify Shapes \n",
    "print(f\"SVB Block Starts Shape: {svb_blocks_max_8.shape}\")"
   ],
   "outputs": [
    {
     "name": "stdout",
     "output_type": "stream",
     "text": [
      "SVB Block Starts Shape: (200, 64)\n"
     ]
    }
   ],
   "execution_count": 9
  },
  {
   "metadata": {},
   "cell_type": "markdown",
   "source": "# Evaluate results"
  },
  {
   "metadata": {
    "ExecuteTime": {
     "end_time": "2024-07-27T21:34:53.684435Z",
     "start_time": "2024-07-27T21:34:53.468735Z"
    }
   },
   "cell_type": "code",
   "source": [
    "# Get performance metrics for each blocksize limit\n",
    "svb_metrics_dict = {}\n",
    "svb_metrics_dict['max_4'] = eval.calculate_metrics(true_blocks, svb_blocks_max_4)\n",
    "svb_metrics_dict['max_8'] = eval.calculate_metrics(true_blocks, svb_blocks_max_8)\n",
    "svb_metrics_dict['max_16'] = eval.calculate_metrics(true_blocks, svb_blocks_max_16)\n",
    "svb_metrics_dict['max_32'] = eval.calculate_metrics(true_blocks, svb_blocks_max_32)"
   ],
   "outputs": [
    {
     "name": "stdout",
     "output_type": "stream",
     "text": [
      "Element-wise Accuracy: 0.6965625\n",
      "Classification Report:\n",
      "              precision    recall  f1-score   support\n",
      "\n",
      "    no block       0.90      0.75      0.82     11516\n",
      "       block       0.09      0.23      0.13      1284\n",
      "\n",
      "    accuracy                           0.70     12800\n",
      "   macro avg       0.50      0.49      0.47     12800\n",
      "weighted avg       0.82      0.70      0.75     12800\n",
      "\n",
      "Confusion Matrix:\n",
      "[[8616 2900]\n",
      " [ 984  300]]\n",
      "True Positives: 300\n",
      "False Negatives: 984\n",
      "True Negatives: 8616\n",
      "False Positives: 2900\n",
      "Element-wise Accuracy: 0.7971875\n",
      "Classification Report:\n",
      "              precision    recall  f1-score   support\n",
      "\n",
      "    no block       0.90      0.87      0.89     11516\n",
      "       block       0.09      0.11      0.10      1284\n",
      "\n",
      "    accuracy                           0.80     12800\n",
      "   macro avg       0.49      0.49      0.49     12800\n",
      "weighted avg       0.82      0.80      0.81     12800\n",
      "\n",
      "Confusion Matrix:\n",
      "[[10060  1456]\n",
      " [ 1140   144]]\n",
      "True Positives: 144\n",
      "False Negatives: 1140\n",
      "True Negatives: 10060\n",
      "False Positives: 1456\n",
      "Element-wise Accuracy: 0.8475\n",
      "Classification Report:\n",
      "              precision    recall  f1-score   support\n",
      "\n",
      "    no block       0.90      0.94      0.92     11516\n",
      "       block       0.08      0.05      0.06      1284\n",
      "\n",
      "    accuracy                           0.85     12800\n",
      "   macro avg       0.49      0.49      0.49     12800\n",
      "weighted avg       0.82      0.85      0.83     12800\n",
      "\n",
      "Confusion Matrix:\n",
      "[[10782   734]\n",
      " [ 1218    66]]\n",
      "True Positives: 66\n",
      "False Negatives: 1218\n",
      "True Negatives: 10782\n",
      "False Positives: 734\n",
      "Element-wise Accuracy: 0.87375\n",
      "Classification Report:\n",
      "              precision    recall  f1-score   support\n",
      "\n",
      "    no block       0.90      0.97      0.93     11516\n",
      "       block       0.09      0.03      0.04      1284\n",
      "\n",
      "    accuracy                           0.87     12800\n",
      "   macro avg       0.49      0.50      0.49     12800\n",
      "weighted avg       0.82      0.87      0.84     12800\n",
      "\n",
      "Confusion Matrix:\n",
      "[[11150   366]\n",
      " [ 1250    34]]\n",
      "True Positives: 34\n",
      "False Negatives: 1250\n",
      "True Negatives: 11150\n",
      "False Positives: 366\n"
     ]
    }
   ],
   "execution_count": 10
  },
  {
   "metadata": {},
   "cell_type": "markdown",
   "source": "# Save computed Block Starts from SVB"
  },
  {
   "metadata": {
    "ExecuteTime": {
     "end_time": "2024-07-27T21:35:46.156999Z",
     "start_time": "2024-07-27T21:35:46.149487Z"
    }
   },
   "cell_type": "code",
   "source": [
    "# Save blockstarts \n",
    "np.save('data/blockstarts/svb_predictions_max_4.npy', svb_blocks_max_4)\n",
    "np.save('data/blockstarts/svb_predictions_max_8.npy', svb_blocks_max_8)\n",
    "np.save('data/blockstarts/svb_predictions_max_16.npy', svb_blocks_max_16)\n",
    "np.save('data/blockstarts/svb_predictions_max_32.npy', svb_blocks_max_32)"
   ],
   "outputs": [],
   "execution_count": 11
  },
  {
   "metadata": {},
   "cell_type": "code",
   "outputs": [],
   "execution_count": null,
   "source": ""
  }
 ],
 "metadata": {
  "accelerator": "GPU",
  "colab": {
   "gpuType": "T4",
   "provenance": []
  },
  "kernelspec": {
   "display_name": "Python 3 (ipykernel)",
   "language": "python",
   "name": "python3"
  },
  "language_info": {
   "codemirror_mode": {
    "name": "ipython",
    "version": 3
   },
   "file_extension": ".py",
   "mimetype": "text/x-python",
   "name": "python",
   "nbconvert_exporter": "python",
   "pygments_lexer": "ipython3",
   "version": "3.12.3"
  }
 },
 "nbformat": 4,
 "nbformat_minor": 4
}
