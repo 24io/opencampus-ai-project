{
 "cells": [
  {
   "cell_type": "code",
   "execution_count": null,
   "metadata": {},
   "outputs": [
    {
     "ename": "",
     "evalue": "",
     "output_type": "error",
     "traceback": [
      "\u001b[1;31mThe kernel failed to start as the Python Environment 'Python' is no longer available. Consider selecting another kernel or refreshing the list of Python Environments."
     ]
    }
   ],
   "source": [
    "import numpy as np\n",
    "import matplotlib.pyplot as plt\n",
    "import seaborn as sns\n",
    "\n",
    "import importlib\n",
    "\n",
    "import matrixlib.io\n",
    "import matrixlib.util\n",
    "import matrixlib.plot\n",
    "import matrixlib.generate\n",
    "\n",
    "import CNN.models\n",
    "import CNN.train\n",
    "import CNN.evaluation\n",
    "import matrixlib.generate\n",
    "\n",
    "# reload the library when changes were made to it\n",
    "importlib.reload(matrixlib.io)\n",
    "importlib.reload(matrixlib.util)\n",
    "importlib.reload(matrixlib.plot)\n",
    "importlib.reload(matrixlib.generate)\n",
    "\n",
    "importlib.reload(CNN.models)\n",
    "importlib.reload(CNN.train)\n",
    "importlib.reload(CNN.evaluation)\n",
    "importlib.reload(matrixlib.generate)"
   ]
  },
  {
   "cell_type": "code",
   "execution_count": null,
   "metadata": {},
   "outputs": [],
   "source": []
  }
 ],
 "metadata": {
  "kernelspec": {
   "display_name": "Python 3",
   "language": "python",
   "name": "python3"
  },
  "language_info": {
   "name": "python"
  }
 },
 "nbformat": 4,
 "nbformat_minor": 2
}
