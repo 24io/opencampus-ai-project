{
 "cells": [
  {
   "metadata": {},
   "cell_type": "markdown",
   "source": "# Setup",
   "id": "54ae0924b64b3dc4"
  },
  {
   "cell_type": "code",
   "id": "initial_id",
   "metadata": {
    "collapsed": true,
    "ExecuteTime": {
     "end_time": "2024-07-27T16:07:15.753325Z",
     "start_time": "2024-07-27T16:07:15.745581Z"
    }
   },
   "source": [
    "import os\n",
    "os.environ['TF_CPP_MIN_LOG_LEVEL'] = '2'\n",
    "os.environ['CUDA_VISIBLE_DEVICES'] = \"0\"\n",
    "\n",
    "import random\n",
    "import datetime\n",
    "import importlib\n",
    "import numpy as np\n",
    "import pandas as pd\n",
    "import seaborn as sns\n",
    "import tensorflow as tf\n",
    "import matplotlib.pyplot as plt\n",
    "\n",
    "from numpy.linalg import cond\n",
    "from typing import List\n",
    "\n",
    "# Matrixkit\n",
    "import matrixkit\n",
    "import matrixkit.block as blk\n",
    "from matrixkit import preconditioning as prec\n",
    "from matrixkit.core import MatrixData, ValueProperties, BlockProperties\n",
    "\n",
    "# modellib\n",
    "\n",
    "import modellib.io as io"
   ],
   "outputs": [],
   "execution_count": 15
  },
  {
   "metadata": {},
   "cell_type": "markdown",
   "source": [
    "# Generate Synthetic Data\n",
    "Generate a set of `n` square symmetrical and positive semi matrices of dimensions `MATRIX_DIM` to RAM.\n",
    "\n",
    "## Define Constants\n",
    "The following constants are used throughout the rest of the notebook."
   ],
   "id": "31c22a282c4f4a66"
  },
  {
   "metadata": {
    "ExecuteTime": {
     "end_time": "2024-07-27T15:46:40.084730Z",
     "start_time": "2024-07-27T15:46:40.075306Z"
    }
   },
   "cell_type": "code",
   "source": [
    "MATRIX_DIM = 64\n",
    "NUMBER_OF_MATRICES = 2000\n",
    "DIAGONAL_BAND_RADIUS = 10\n",
    "RNG_SEED = 42\n",
    "VALUE_COLORBAR = 'rocket'\n",
    "BLOCK_COLORBAR = 'flare'"
   ],
   "id": "189b0be883cc92f1",
   "outputs": [],
   "execution_count": 7
  },
  {
   "metadata": {
    "ExecuteTime": {
     "end_time": "2024-07-27T15:47:02.163364Z",
     "start_time": "2024-07-27T15:46:43.840652Z"
    }
   },
   "cell_type": "code",
   "source": [
    "# Generate matrices\n",
    "bgr_noise_value_props = ValueProperties(density_range=(0.3, 0.5), value_range=(0.0, 0.5))\n",
    "noise_blk_value_props = ValueProperties(density_range=(0.3, 0.5), value_range=(0.3, 1.0))\n",
    "noise_blk_block_props = BlockProperties(size_range=(3, 32), size_average=10, size_std_dev=0.66, gap_chance=0.5)\n",
    "tdata_blk_value_props = ValueProperties(density_range=(0.5, 0.7), value_range=(0.3, 1.0))\n",
    "tdata_blk_block_props = BlockProperties(size_range=(2, 32), size_average=10, size_std_dev=0.66, gap_chance=0)\n",
    "\n",
    "test_data = MatrixData(\n",
    "        dimension=MATRIX_DIM,\n",
    "        band_radius=DIAGONAL_BAND_RADIUS,\n",
    "        sample_size=NUMBER_OF_MATRICES,\n",
    "        background_noise_value_properties=bgr_noise_value_props,\n",
    "        block_noise_value_properties=noise_blk_value_props,\n",
    "        block_noise_block_properties=noise_blk_block_props,\n",
    "        block_data_value_properties=tdata_blk_value_props,\n",
    "        block_data_block_properties=tdata_blk_block_props,\n",
    "        seed=42,\n",
    "        determinant_cutoff=0.01,\n",
    "        print_debug=True\n",
    "    )"
   ],
   "id": "93931f17e7c5df2c",
   "outputs": [
    {
     "name": "stdout",
     "output_type": "stream",
     "text": [
      "initialized        data vectors of size   2000 x  64 x  64 =   8192000 with a memory usage of  31.250 MiB\n",
      "initialized  data start vectors of size   2000 x  64       =    128000 with a memory usage of   0.122 MiB\n",
      "initialized noise start vectors of size   2000 x  64       =    128000 with a memory usage of   0.122 MiB\n",
      "initialized        band vectors of size   2000 x  64 x  10 =   1280000 with a memory usage of  10.254 MiB\n",
      "--------------------------------------------------------------------------------\n",
      "instantiation rng generators...\n",
      "generating matrices...\n",
      "invalid matrices: 0\n",
      "determinant abs-value range: [0.020097101107239723, 3694413.75]\n"
     ]
    },
    {
     "data": {
      "text/plain": [
       "<Figure size 640x480 with 1 Axes>"
      ],
      "image/png": "[encoded data removed]"
     },
     "metadata": {},
     "output_type": "display_data"
    },
    {
     "name": "stdout",
     "output_type": "stream",
     "text": [
      "duration: 18.31 seconds\n"
     ]
    }
   ],
   "execution_count": 8
  },
  {
   "metadata": {
    "ExecuteTime": {
     "end_time": "2024-07-27T15:47:19.177496Z",
     "start_time": "2024-07-27T15:47:19.035722Z"
    }
   },
   "cell_type": "code",
   "source": [
    "bands = test_data.bands.reshape(NUMBER_OF_MATRICES, (DIAGONAL_BAND_RADIUS* 2 + 1), MATRIX_DIM, 1)\n",
    "bands = np.nan_to_num(bands) # replace NaNs with 0s\n",
    "labels = test_data.tdata_blk_starts\n",
    "print(f\"Matrix Bands Shape: {bands.shape}, Matrix Labels Shape: {labels.shape}\")\n",
    "\n",
    "# Create dataset from matrices and labels\n",
    "dataset = tf.data.Dataset.from_tensor_slices((bands, labels))\n",
    "\n",
    "# Split the dataset\n",
    "train_size = int(0.8 * NUMBER_OF_MATRICES)\n",
    "val_size = int(0.1 * NUMBER_OF_MATRICES)\n",
    "test_size = NUMBER_OF_MATRICES - train_size - val_size\n",
    "\n",
    "train_dataset = dataset.take(train_size).shuffle(buffer_size=10)\n",
    "val_dataset = dataset.skip(train_size).take(val_size)\n",
    "test_dataset = dataset.skip(train_size + val_size)\n",
    "\n",
    "# Create test matrices and labels\n",
    "test_matrices = test_data.matrices[train_size + val_size:]\n",
    "test_labels = labels[train_size + val_size:]\n",
    "\n",
    "# Verify Shape\n",
    "print(f\"Test Matrices Shape: {test_matrices.shape}, Test Labels Shape: {test_labels.shape}\")\n",
    "print(f\"Train size: {train_size}, Val size: {val_size}, Test size: {test_size}\")"
   ],
   "id": "2bb3fbbb381033f5",
   "outputs": [
    {
     "name": "stdout",
     "output_type": "stream",
     "text": [
      "Matrix Bands Shape: (2000, 21, 64, 1), Matrix Labels Shape: (2000, 64)\n",
      "Test Matrices Shape: (200, 64, 64), Test Labels Shape: (200, 64)\n",
      "Train size: 1600, Val size: 200, Test size: 200\n"
     ]
    }
   ],
   "execution_count": 9
  },
  {
   "metadata": {},
   "cell_type": "markdown",
   "source": "# Save matrices",
   "id": "d03c2bfc2748e05c"
  },
  {
   "metadata": {
    "ExecuteTime": {
     "end_time": "2024-07-27T16:12:44.121607Z",
     "start_time": "2024-07-27T16:12:43.050544Z"
    }
   },
   "cell_type": "code",
   "source": [
    "io.save_to_hdf5(train_dataset, \"train_matrices_64_1600.h5\")\n",
    "io.save_to_hdf5(val_dataset, \"val_matrices_64_200.h5\")\n",
    "io.save_to_hdf5(test_dataset, \"test_matrices_64_200.h5\")"
   ],
   "id": "5ff96fe28c115694",
   "outputs": [],
   "execution_count": 20
  },
  {
   "metadata": {},
   "cell_type": "markdown",
   "source": "# Load matrices",
   "id": "358da693a860c3f0"
  },
  {
   "metadata": {
    "ExecuteTime": {
     "end_time": "2024-07-27T16:12:39.072163Z",
     "start_time": "2024-07-27T16:12:39.064430Z"
    }
   },
   "cell_type": "code",
   "source": "importlib.reload(io)",
   "id": "6c2696a7fe31998b",
   "outputs": [
    {
     "data": {
      "text/plain": [
       "<module 'modellib.io' from '/home/moonchild/PycharmProjects/preconditioners/modellib/io.py'>"
      ]
     },
     "execution_count": 19,
     "metadata": {},
     "output_type": "execute_result"
    }
   ],
   "execution_count": 19
  },
  {
   "metadata": {
    "ExecuteTime": {
     "end_time": "2024-07-27T16:12:49.792285Z",
     "start_time": "2024-07-27T16:12:49.765764Z"
    }
   },
   "cell_type": "code",
   "source": [
    "# Reading the datasets\n",
    "train_bands, train_labels = io.read_from_hdf5(\"train_matrices_64_1600.h5\")\n",
    "val_bands, val_labels = io.read_from_hdf5(\"val_matrices_64_200.h5\")\n",
    "test_bands, test_labels = io.read_from_hdf5(\"test_matrices_64_200.h5\")\n",
    "\n",
    "# Printing shapes to verify\n",
    "print(f\"Train bands shape: {train_bands.shape}, Train labels shape: {train_labels.shape}\")\n",
    "print(f\"Validation bands shape: {val_bands.shape}, Validation labels shape: {val_labels.shape}\")\n",
    "print(f\"Test bands shape: {test_bands.shape}, Test labels shape: {test_labels.shape}\")"
   ],
   "id": "83f41ea5576ec573",
   "outputs": [
    {
     "name": "stdout",
     "output_type": "stream",
     "text": [
      "Train bands shape: (1600, 21, 64, 1), Train labels shape: (1600, 64)\n",
      "Validation bands shape: (200, 21, 64, 1), Validation labels shape: (200, 64)\n",
      "Test bands shape: (200, 21, 64, 1), Test labels shape: (200, 64)\n"
     ]
    }
   ],
   "execution_count": 21
  }
 ],
 "metadata": {
  "kernelspec": {
   "display_name": "Python 3",
   "language": "python",
   "name": "python3"
  },
  "language_info": {
   "codemirror_mode": {
    "name": "ipython",
    "version": 2
   },
   "file_extension": ".py",
   "mimetype": "text/x-python",
   "name": "python",
   "nbconvert_exporter": "python",
   "pygments_lexer": "ipython2",
   "version": "2.7.6"
  }
 },
 "nbformat": 4,
 "nbformat_minor": 5
}
