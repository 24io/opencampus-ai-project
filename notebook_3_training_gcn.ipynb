{
 "cells": [
  {
   "metadata": {},
   "cell_type": "markdown",
   "source": "# Setup\n",
   "id": "c87c853f7f069233"
  },
  {
   "metadata": {
    "ExecuteTime": {
     "end_time": "2024-07-28T19:28:14.695480Z",
     "start_time": "2024-07-28T19:28:14.688211Z"
    }
   },
   "cell_type": "code",
   "source": [
    "import os\n",
    "os.environ['TF_CPP_MIN_LOG_LEVEL'] = '2'\n",
    "os.environ['CUDA_VISIBLE_DEVICES'] = \"0\"\n",
    "\n",
    "import importlib\n",
    "import tensorflow as tf\n",
    "import numpy as np\n",
    "\n",
    "# Modellib\n",
    "import modellib as mlb\n",
    "import modellib.io as io\n",
    "import modellib.evaluate as eval\n",
    "\n",
    "from tensorflow.keras.metrics import AUC"
   ],
   "id": "6ccecd205e2f4feb",
   "outputs": [],
   "execution_count": 3
  },
  {
   "metadata": {},
   "cell_type": "markdown",
   "source": "# Define Constants ",
   "id": "dd8242982f0342c4"
  },
  {
   "metadata": {
    "ExecuteTime": {
     "end_time": "2024-07-28T19:28:14.711231Z",
     "start_time": "2024-07-28T19:28:14.699332Z"
    }
   },
   "cell_type": "code",
   "source": [
    "# Def constants and variables\n",
    "NUM_NODES = 64\n",
    "NUM_FEATURES = 21"
   ],
   "id": "initial_id",
   "outputs": [],
   "execution_count": 4
  },
  {
   "metadata": {},
   "cell_type": "markdown",
   "source": "# Load and Prepare Data",
   "id": "b020c51262c3e4bc"
  },
  {
   "metadata": {
    "ExecuteTime": {
     "end_time": "2024-07-28T20:35:41.913400Z",
     "start_time": "2024-07-28T20:35:41.864132Z"
    }
   },
   "cell_type": "code",
   "source": [
    "# Load data\n",
    "train_bands, train_labels = io.read_from_hdf5(\"data/datasets/train_dataset_64_1600.h5\")\n",
    "val_bands, val_labels = io.read_from_hdf5(\"data/datasets/val_dataset_64_200.h5\")\n",
    "test_bands, test_labels = io.read_from_hdf5(\"data/datasets/test_dataset_64_200.h5\")\n",
    "\n",
    "# Printing shapes to verify\n",
    "print(\"\")\n",
    "print(f\"Train bands shape: {train_bands.shape}, Train labels shape: {train_labels.shape}\")\n",
    "print(f\"Val bands shape: {val_bands.shape}, Validation labels shape: {val_labels.shape}\")\n",
    "print(f\"Test bands shape: {test_bands.shape}, Test labels shape: {test_labels.shape}\")\n",
    "\n",
    "# Reshape\n",
    "train_reshaped = np.squeeze(train_bands).transpose(0, 2, 1)\n",
    "val_reshaped = np.squeeze(val_bands).transpose(0, 2, 1)\n",
    "test_reshaped = np.squeeze(test_bands).transpose(0, 2, 1)\n",
    "\n",
    "# Printing shapes to verify\n",
    "print(\"\")\n",
    "print(f\"Train Bands reshaped shape: {train_reshaped.shape}\")\n",
    "print(f\"Val Bands reshaped shape: {val_reshaped.shape}\")\n",
    "print(f\"Test Bands reshaped shape: {test_reshaped.shape}\")\n",
    "\n",
    "# Create initial adj & normalize\n",
    "adj_matrix = mlb.gcn.create_initial_adj_matrix(NUM_NODES)\n",
    "adj_matrix = adj_matrix / np.sum(adj_matrix, axis=1, keepdims=True)\n",
    "\n",
    "# Repeat adj_matrix for each sample in train, val, and test sets\n",
    "adj_matrix_train = np.repeat(adj_matrix[np.newaxis, :, :], train_reshaped.shape[0], axis=0)\n",
    "adj_matrix_val = np.repeat(adj_matrix[np.newaxis, :, :], val_reshaped.shape[0], axis=0)\n",
    "adj_matrix_test = np.repeat(adj_matrix[np.newaxis, :, :], test_reshaped.shape[0], axis=0)\n",
    "\n",
    "# Printing shapes to verify\n",
    "print(\"\")\n",
    "print(f\"Init. Adjacency Matrix shape: {adj_matrix.shape}\")\n",
    "print(f\"Train Adjacency Matrix shape: {adj_matrix_train.shape}\")\n",
    "print(f\"Val Adjacency Matrix shape: {adj_matrix_val.shape}\")\n",
    "print(f\"Test Adjacency Matrix shape: {adj_matrix_test.shape}\")"
   ],
   "id": "cdbe00fea5648fdf",
   "outputs": [
    {
     "name": "stdout",
     "output_type": "stream",
     "text": [
      "\n",
      "Train bands shape: (1600, 21, 64, 1), Train labels shape: (1600, 64)\n",
      "Val bands shape: (200, 21, 64, 1), Validation labels shape: (200, 64)\n",
      "Test bands shape: (200, 21, 64, 1), Test labels shape: (200, 64)\n",
      "\n",
      "Train Bands reshaped shape: (1600, 64, 21)\n",
      "Val Bands reshaped shape: (200, 64, 21)\n",
      "Test Bands reshaped shape: (200, 64, 21)\n",
      "\n",
      "Init. Adjacency Matrix shape: (64, 64)\n",
      "Train Adjacency Matrix shape: (1600, 64, 64)\n",
      "Val Adjacency Matrix shape: (200, 64, 64)\n",
      "Test Adjacency Matrix shape: (200, 64, 64)\n"
     ]
    }
   ],
   "execution_count": 25
  },
  {
   "metadata": {},
   "cell_type": "markdown",
   "source": "# Define Model Parameters\n",
   "id": "b897dd39e857a060"
  },
  {
   "metadata": {
    "ExecuteTime": {
     "end_time": "2024-07-28T19:28:14.854086Z",
     "start_time": "2024-07-28T19:28:14.793392Z"
    }
   },
   "cell_type": "code",
   "source": [
    "# Learning Rate Schedule\n",
    "lr_schedule = tf.keras.optimizers.schedules.ExponentialDecay(\n",
    "    initial_learning_rate=1e-3,\n",
    "    decay_steps=10000,\n",
    "    decay_rate=0.9\n",
    ")\n",
    "\n",
    "# Early Stopping\n",
    "early_stopping = tf.keras.callbacks.EarlyStopping(\n",
    "    monitor='val_loss', patience=10, restore_best_weights=True\n",
    ")\n",
    "\n",
    "# Model Parameters\n",
    "optimizer = tf.keras.optimizers.Adam(learning_rate=lr_schedule)\n",
    "class_weights = {0: 0.2, 1: 0.8}\n",
    "weighted_binary_ce = lambda y_true, y_predictions: mlb.losses.weighted_binary_crossentropy(y_true, y_predictions, class_weights)\n",
    "metrics = [AUC(multi_label=True)]"
   ],
   "id": "e70b88b14ccbf3cf",
   "outputs": [],
   "execution_count": 6
  },
  {
   "metadata": {},
   "cell_type": "markdown",
   "source": "# Train Model",
   "id": "4162d183bd302b4b"
  },
  {
   "metadata": {
    "ExecuteTime": {
     "end_time": "2024-07-28T19:45:49.085572Z",
     "start_time": "2024-07-28T19:28:14.884456Z"
    }
   },
   "cell_type": "code",
   "source": [
    "importlib.reload(mlb.gcn)\n",
    "\n",
    "# Create Model \n",
    "model = mlb.gcn.create_gcn_model(NUM_NODES, NUM_FEATURES, use_attention=True)\n",
    "model.compile(\n",
    "    optimizer=optimizer,\n",
    "    loss=weighted_binary_ce,\n",
    "    metrics=metrics\n",
    ")\n",
    "\n",
    "# Fit Model\n",
    "history = model.fit(\n",
    "    [train_reshaped, adj_matrix_train],\n",
    "    train_labels,\n",
    "    epochs=100,\n",
    "    batch_size=16,\n",
    "    validation_data=([val_reshaped, adj_matrix_val], val_labels),\n",
    "    class_weight=class_weights,\n",
    "    callbacks=[early_stopping]\n",
    ")"
   ],
   "id": "c7cdf9ae829dbbe2",
   "outputs": [
    {
     "name": "stdout",
     "output_type": "stream",
     "text": [
      "Epoch 1/100\n",
      "\u001B[1m100/100\u001B[0m \u001B[32m━━━━━━━━━━━━━━━━━━━━\u001B[0m\u001B[37m\u001B[0m \u001B[1m35s\u001B[0m 180ms/step - auc: 0.5286 - loss: 1.5072 - val_auc: 0.6502 - val_loss: 0.8099\n",
      "Epoch 2/100\n",
      "\u001B[1m100/100\u001B[0m \u001B[32m━━━━━━━━━━━━━━━━━━━━\u001B[0m\u001B[37m\u001B[0m \u001B[1m12s\u001B[0m 116ms/step - auc: 0.5998 - loss: 0.5447 - val_auc: 0.6587 - val_loss: 0.3670\n",
      "Epoch 3/100\n",
      "\u001B[1m100/100\u001B[0m \u001B[32m━━━━━━━━━━━━━━━━━━━━\u001B[0m\u001B[37m\u001B[0m \u001B[1m21s\u001B[0m 121ms/step - auc: 0.6129 - loss: 0.1974 - val_auc: 0.6614 - val_loss: 0.2152\n",
      "Epoch 4/100\n",
      "\u001B[1m100/100\u001B[0m \u001B[32m━━━━━━━━━━━━━━━━━━━━\u001B[0m\u001B[37m\u001B[0m \u001B[1m11s\u001B[0m 114ms/step - auc: 0.6196 - loss: 0.0803 - val_auc: 0.6615 - val_loss: 0.1666\n",
      "Epoch 5/100\n",
      "\u001B[1m100/100\u001B[0m \u001B[32m━━━━━━━━━━━━━━━━━━━━\u001B[0m\u001B[37m\u001B[0m \u001B[1m14s\u001B[0m 138ms/step - auc: 0.6245 - loss: 0.0437 - val_auc: 0.6608 - val_loss: 0.1522\n",
      "Epoch 6/100\n",
      "\u001B[1m100/100\u001B[0m \u001B[32m━━━━━━━━━━━━━━━━━━━━\u001B[0m\u001B[37m\u001B[0m \u001B[1m16s\u001B[0m 156ms/step - auc: 0.6163 - loss: 0.0331 - val_auc: 0.6594 - val_loss: 0.1484\n",
      "Epoch 7/100\n",
      "\u001B[1m100/100\u001B[0m \u001B[32m━━━━━━━━━━━━━━━━━━━━\u001B[0m\u001B[37m\u001B[0m \u001B[1m14s\u001B[0m 143ms/step - auc: 0.6161 - loss: 0.0305 - val_auc: 0.6579 - val_loss: 0.1471\n",
      "Epoch 8/100\n",
      "\u001B[1m100/100\u001B[0m \u001B[32m━━━━━━━━━━━━━━━━━━━━\u001B[0m\u001B[37m\u001B[0m \u001B[1m21s\u001B[0m 147ms/step - auc: 0.6160 - loss: 0.0297 - val_auc: 0.6575 - val_loss: 0.1469\n",
      "Epoch 9/100\n",
      "\u001B[1m100/100\u001B[0m \u001B[32m━━━━━━━━━━━━━━━━━━━━\u001B[0m\u001B[37m\u001B[0m \u001B[1m19s\u001B[0m 191ms/step - auc: 0.6188 - loss: 0.0298 - val_auc: 0.6578 - val_loss: 0.1458\n",
      "Epoch 10/100\n",
      "\u001B[1m100/100\u001B[0m \u001B[32m━━━━━━━━━━━━━━━━━━━━\u001B[0m\u001B[37m\u001B[0m \u001B[1m23s\u001B[0m 231ms/step - auc: 0.6133 - loss: 0.0295 - val_auc: 0.6553 - val_loss: 0.1456\n",
      "Epoch 11/100\n",
      "\u001B[1m100/100\u001B[0m \u001B[32m━━━━━━━━━━━━━━━━━━━━\u001B[0m\u001B[37m\u001B[0m \u001B[1m42s\u001B[0m 237ms/step - auc: 0.6140 - loss: 0.0294 - val_auc: 0.6562 - val_loss: 0.1448\n",
      "Epoch 12/100\n",
      "\u001B[1m100/100\u001B[0m \u001B[32m━━━━━━━━━━━━━━━━━━━━\u001B[0m\u001B[37m\u001B[0m \u001B[1m18s\u001B[0m 182ms/step - auc: 0.6179 - loss: 0.0294 - val_auc: 0.6552 - val_loss: 0.1441\n",
      "Epoch 13/100\n",
      "\u001B[1m100/100\u001B[0m \u001B[32m━━━━━━━━━━━━━━━━━━━━\u001B[0m\u001B[37m\u001B[0m \u001B[1m20s\u001B[0m 181ms/step - auc: 0.6172 - loss: 0.0294 - val_auc: 0.6551 - val_loss: 0.1435\n",
      "Epoch 14/100\n",
      "\u001B[1m100/100\u001B[0m \u001B[32m━━━━━━━━━━━━━━━━━━━━\u001B[0m\u001B[37m\u001B[0m \u001B[1m19s\u001B[0m 162ms/step - auc: 0.6254 - loss: 0.0291 - val_auc: 0.6562 - val_loss: 0.1430\n",
      "Epoch 15/100\n",
      "\u001B[1m100/100\u001B[0m \u001B[32m━━━━━━━━━━━━━━━━━━━━\u001B[0m\u001B[37m\u001B[0m \u001B[1m21s\u001B[0m 213ms/step - auc: 0.6253 - loss: 0.0291 - val_auc: 0.6557 - val_loss: 0.1426\n",
      "Epoch 16/100\n",
      "\u001B[1m100/100\u001B[0m \u001B[32m━━━━━━━━━━━━━━━━━━━━\u001B[0m\u001B[37m\u001B[0m \u001B[1m38s\u001B[0m 188ms/step - auc: 0.6231 - loss: 0.0289 - val_auc: 0.6539 - val_loss: 0.1429\n",
      "Epoch 17/100\n",
      "\u001B[1m100/100\u001B[0m \u001B[32m━━━━━━━━━━━━━━━━━━━━\u001B[0m\u001B[37m\u001B[0m \u001B[1m20s\u001B[0m 180ms/step - auc: 0.6260 - loss: 0.0290 - val_auc: 0.6638 - val_loss: 0.1413\n",
      "Epoch 18/100\n",
      "\u001B[1m100/100\u001B[0m \u001B[32m━━━━━━━━━━━━━━━━━━━━\u001B[0m\u001B[37m\u001B[0m \u001B[1m20s\u001B[0m 196ms/step - auc: 0.6376 - loss: 0.0287 - val_auc: 0.6610 - val_loss: 0.1416\n",
      "Epoch 19/100\n",
      "\u001B[1m100/100\u001B[0m \u001B[32m━━━━━━━━━━━━━━━━━━━━\u001B[0m\u001B[37m\u001B[0m \u001B[1m18s\u001B[0m 185ms/step - auc: 0.6398 - loss: 0.0285 - val_auc: 0.6602 - val_loss: 0.1401\n",
      "Epoch 20/100\n",
      "\u001B[1m100/100\u001B[0m \u001B[32m━━━━━━━━━━━━━━━━━━━━\u001B[0m\u001B[37m\u001B[0m \u001B[1m20s\u001B[0m 185ms/step - auc: 0.6463 - loss: 0.0286 - val_auc: 0.6602 - val_loss: 0.1403\n",
      "Epoch 21/100\n",
      "\u001B[1m100/100\u001B[0m \u001B[32m━━━━━━━━━━━━━━━━━━━━\u001B[0m\u001B[37m\u001B[0m \u001B[1m18s\u001B[0m 177ms/step - auc: 0.6458 - loss: 0.0283 - val_auc: 0.6610 - val_loss: 0.1400\n",
      "Epoch 22/100\n",
      "\u001B[1m100/100\u001B[0m \u001B[32m━━━━━━━━━━━━━━━━━━━━\u001B[0m\u001B[37m\u001B[0m \u001B[1m19s\u001B[0m 187ms/step - auc: 0.6434 - loss: 0.0284 - val_auc: 0.6624 - val_loss: 0.1392\n",
      "Epoch 23/100\n",
      "\u001B[1m100/100\u001B[0m \u001B[32m━━━━━━━━━━━━━━━━━━━━\u001B[0m\u001B[37m\u001B[0m \u001B[1m19s\u001B[0m 185ms/step - auc: 0.6482 - loss: 0.0282 - val_auc: 0.6669 - val_loss: 0.1381\n",
      "Epoch 24/100\n",
      "\u001B[1m100/100\u001B[0m \u001B[32m━━━━━━━━━━━━━━━━━━━━\u001B[0m\u001B[37m\u001B[0m \u001B[1m18s\u001B[0m 183ms/step - auc: 0.6492 - loss: 0.0281 - val_auc: 0.6655 - val_loss: 0.1379\n",
      "Epoch 25/100\n",
      "\u001B[1m100/100\u001B[0m \u001B[32m━━━━━━━━━━━━━━━━━━━━\u001B[0m\u001B[37m\u001B[0m \u001B[1m20s\u001B[0m 204ms/step - auc: 0.6501 - loss: 0.0282 - val_auc: 0.6649 - val_loss: 0.1373\n",
      "Epoch 26/100\n",
      "\u001B[1m100/100\u001B[0m \u001B[32m━━━━━━━━━━━━━━━━━━━━\u001B[0m\u001B[37m\u001B[0m \u001B[1m19s\u001B[0m 186ms/step - auc: 0.6502 - loss: 0.0281 - val_auc: 0.6653 - val_loss: 0.1373\n",
      "Epoch 27/100\n",
      "\u001B[1m100/100\u001B[0m \u001B[32m━━━━━━━━━━━━━━━━━━━━\u001B[0m\u001B[37m\u001B[0m \u001B[1m19s\u001B[0m 176ms/step - auc: 0.6503 - loss: 0.0280 - val_auc: 0.6652 - val_loss: 0.1373\n",
      "Epoch 28/100\n",
      "\u001B[1m100/100\u001B[0m \u001B[32m━━━━━━━━━━━━━━━━━━━━\u001B[0m\u001B[37m\u001B[0m \u001B[1m17s\u001B[0m 172ms/step - auc: 0.6495 - loss: 0.0282 - val_auc: 0.6657 - val_loss: 0.1376\n",
      "Epoch 29/100\n",
      "\u001B[1m100/100\u001B[0m \u001B[32m━━━━━━━━━━━━━━━━━━━━\u001B[0m\u001B[37m\u001B[0m \u001B[1m19s\u001B[0m 193ms/step - auc: 0.6516 - loss: 0.0280 - val_auc: 0.6676 - val_loss: 0.1369\n",
      "Epoch 30/100\n",
      "\u001B[1m100/100\u001B[0m \u001B[32m━━━━━━━━━━━━━━━━━━━━\u001B[0m\u001B[37m\u001B[0m \u001B[1m22s\u001B[0m 208ms/step - auc: 0.6469 - loss: 0.0279 - val_auc: 0.6651 - val_loss: 0.1368\n",
      "Epoch 31/100\n",
      "\u001B[1m100/100\u001B[0m \u001B[32m━━━━━━━━━━━━━━━━━━━━\u001B[0m\u001B[37m\u001B[0m \u001B[1m18s\u001B[0m 174ms/step - auc: 0.6496 - loss: 0.0278 - val_auc: 0.6643 - val_loss: 0.1370\n",
      "Epoch 32/100\n",
      "\u001B[1m100/100\u001B[0m \u001B[32m━━━━━━━━━━━━━━━━━━━━\u001B[0m\u001B[37m\u001B[0m \u001B[1m20s\u001B[0m 171ms/step - auc: 0.6477 - loss: 0.0280 - val_auc: 0.6618 - val_loss: 0.1394\n",
      "Epoch 33/100\n",
      "\u001B[1m100/100\u001B[0m \u001B[32m━━━━━━━━━━━━━━━━━━━━\u001B[0m\u001B[37m\u001B[0m \u001B[1m21s\u001B[0m 175ms/step - auc: 0.6486 - loss: 0.0279 - val_auc: 0.6639 - val_loss: 0.1368\n",
      "Epoch 34/100\n",
      "\u001B[1m100/100\u001B[0m \u001B[32m━━━━━━━━━━━━━━━━━━━━\u001B[0m\u001B[37m\u001B[0m \u001B[1m18s\u001B[0m 184ms/step - auc: 0.6440 - loss: 0.0280 - val_auc: 0.6651 - val_loss: 0.1365\n",
      "Epoch 35/100\n",
      "\u001B[1m100/100\u001B[0m \u001B[32m━━━━━━━━━━━━━━━━━━━━\u001B[0m\u001B[37m\u001B[0m \u001B[1m17s\u001B[0m 166ms/step - auc: 0.6510 - loss: 0.0279 - val_auc: 0.6650 - val_loss: 0.1370\n",
      "Epoch 36/100\n",
      "\u001B[1m100/100\u001B[0m \u001B[32m━━━━━━━━━━━━━━━━━━━━\u001B[0m\u001B[37m\u001B[0m \u001B[1m18s\u001B[0m 183ms/step - auc: 0.6484 - loss: 0.0276 - val_auc: 0.6639 - val_loss: 0.1364\n",
      "Epoch 37/100\n",
      "\u001B[1m100/100\u001B[0m \u001B[32m━━━━━━━━━━━━━━━━━━━━\u001B[0m\u001B[37m\u001B[0m \u001B[1m19s\u001B[0m 169ms/step - auc: 0.6495 - loss: 0.0277 - val_auc: 0.6652 - val_loss: 0.1364\n",
      "Epoch 38/100\n",
      "\u001B[1m100/100\u001B[0m \u001B[32m━━━━━━━━━━━━━━━━━━━━\u001B[0m\u001B[37m\u001B[0m \u001B[1m18s\u001B[0m 179ms/step - auc: 0.6475 - loss: 0.0279 - val_auc: 0.6629 - val_loss: 0.1367\n",
      "Epoch 39/100\n",
      "\u001B[1m100/100\u001B[0m \u001B[32m━━━━━━━━━━━━━━━━━━━━\u001B[0m\u001B[37m\u001B[0m \u001B[1m18s\u001B[0m 185ms/step - auc: 0.6427 - loss: 0.0278 - val_auc: 0.6663 - val_loss: 0.1363\n",
      "Epoch 40/100\n",
      "\u001B[1m100/100\u001B[0m \u001B[32m━━━━━━━━━━━━━━━━━━━━\u001B[0m\u001B[37m\u001B[0m \u001B[1m18s\u001B[0m 160ms/step - auc: 0.6530 - loss: 0.0278 - val_auc: 0.6635 - val_loss: 0.1362\n",
      "Epoch 41/100\n",
      "\u001B[1m100/100\u001B[0m \u001B[32m━━━━━━━━━━━━━━━━━━━━\u001B[0m\u001B[37m\u001B[0m \u001B[1m16s\u001B[0m 161ms/step - auc: 0.6458 - loss: 0.0277 - val_auc: 0.6674 - val_loss: 0.1362\n",
      "Epoch 42/100\n",
      "\u001B[1m100/100\u001B[0m \u001B[32m━━━━━━━━━━━━━━━━━━━━\u001B[0m\u001B[37m\u001B[0m \u001B[1m16s\u001B[0m 159ms/step - auc: 0.6518 - loss: 0.0276 - val_auc: 0.6658 - val_loss: 0.1357\n",
      "Epoch 43/100\n",
      "\u001B[1m100/100\u001B[0m \u001B[32m━━━━━━━━━━━━━━━━━━━━\u001B[0m\u001B[37m\u001B[0m \u001B[1m17s\u001B[0m 129ms/step - auc: 0.6510 - loss: 0.0277 - val_auc: 0.6662 - val_loss: 0.1358\n",
      "Epoch 44/100\n",
      "\u001B[1m100/100\u001B[0m \u001B[32m━━━━━━━━━━━━━━━━━━━━\u001B[0m\u001B[37m\u001B[0m \u001B[1m20s\u001B[0m 125ms/step - auc: 0.6479 - loss: 0.0278 - val_auc: 0.6669 - val_loss: 0.1357\n",
      "Epoch 45/100\n",
      "\u001B[1m100/100\u001B[0m \u001B[32m━━━━━━━━━━━━━━━━━━━━\u001B[0m\u001B[37m\u001B[0m \u001B[1m10s\u001B[0m 104ms/step - auc: 0.6535 - loss: 0.0276 - val_auc: 0.6646 - val_loss: 0.1367\n",
      "Epoch 46/100\n",
      "\u001B[1m100/100\u001B[0m \u001B[32m━━━━━━━━━━━━━━━━━━━━\u001B[0m\u001B[37m\u001B[0m \u001B[1m16s\u001B[0m 161ms/step - auc: 0.6496 - loss: 0.0275 - val_auc: 0.6633 - val_loss: 0.1396\n",
      "Epoch 47/100\n",
      "\u001B[1m100/100\u001B[0m \u001B[32m━━━━━━━━━━━━━━━━━━━━\u001B[0m\u001B[37m\u001B[0m \u001B[1m19s\u001B[0m 143ms/step - auc: 0.6443 - loss: 0.0280 - val_auc: 0.6681 - val_loss: 0.1363\n",
      "Epoch 48/100\n",
      "\u001B[1m100/100\u001B[0m \u001B[32m━━━━━━━━━━━━━━━━━━━━\u001B[0m\u001B[37m\u001B[0m \u001B[1m20s\u001B[0m 141ms/step - auc: 0.6516 - loss: 0.0275 - val_auc: 0.6654 - val_loss: 0.1365\n",
      "Epoch 49/100\n",
      "\u001B[1m100/100\u001B[0m \u001B[32m━━━━━━━━━━━━━━━━━━━━\u001B[0m\u001B[37m\u001B[0m \u001B[1m16s\u001B[0m 156ms/step - auc: 0.6501 - loss: 0.0276 - val_auc: 0.6664 - val_loss: 0.1357\n",
      "Epoch 50/100\n",
      "\u001B[1m100/100\u001B[0m \u001B[32m━━━━━━━━━━━━━━━━━━━━\u001B[0m\u001B[37m\u001B[0m \u001B[1m23s\u001B[0m 230ms/step - auc: 0.6499 - loss: 0.0278 - val_auc: 0.6646 - val_loss: 0.1375\n",
      "Epoch 51/100\n",
      "\u001B[1m100/100\u001B[0m \u001B[32m━━━━━━━━━━━━━━━━━━━━\u001B[0m\u001B[37m\u001B[0m \u001B[1m26s\u001B[0m 257ms/step - auc: 0.6514 - loss: 0.0277 - val_auc: 0.6666 - val_loss: 0.1358\n",
      "Epoch 52/100\n",
      "\u001B[1m100/100\u001B[0m \u001B[32m━━━━━━━━━━━━━━━━━━━━\u001B[0m\u001B[37m\u001B[0m \u001B[1m19s\u001B[0m 188ms/step - auc: 0.6526 - loss: 0.0277 - val_auc: 0.6669 - val_loss: 0.1361\n",
      "Epoch 53/100\n",
      "\u001B[1m100/100\u001B[0m \u001B[32m━━━━━━━━━━━━━━━━━━━━\u001B[0m\u001B[37m\u001B[0m \u001B[1m18s\u001B[0m 175ms/step - auc: 0.6511 - loss: 0.0277 - val_auc: 0.6668 - val_loss: 0.1361\n",
      "Epoch 54/100\n",
      "\u001B[1m100/100\u001B[0m \u001B[32m━━━━━━━━━━━━━━━━━━━━\u001B[0m\u001B[37m\u001B[0m \u001B[1m19s\u001B[0m 188ms/step - auc: 0.6506 - loss: 0.0276 - val_auc: 0.6651 - val_loss: 0.1362\n"
     ]
    }
   ],
   "execution_count": 8
  },
  {
   "metadata": {},
   "cell_type": "markdown",
   "source": "# Make Predictions",
   "id": "2f636f9ce96e2b8f"
  },
  {
   "metadata": {
    "ExecuteTime": {
     "end_time": "2024-07-28T19:50:15.691335Z",
     "start_time": "2024-07-28T19:50:14.280706Z"
    }
   },
   "cell_type": "code",
   "source": [
    "# Make predictions on the test set\n",
    "y_pred_proba = model.predict([test_reshaped, adj_matrix_test])\n",
    "y_pred = (y_pred_proba > 0.5).astype(int)  # Convert probabilities to binary predictions"
   ],
   "id": "6e38a467c0cbdce5",
   "outputs": [
    {
     "name": "stdout",
     "output_type": "stream",
     "text": [
      "\u001B[1m7/7\u001B[0m \u001B[32m━━━━━━━━━━━━━━━━━━━━\u001B[0m\u001B[37m\u001B[0m \u001B[1m1s\u001B[0m 131ms/step\n"
     ]
    }
   ],
   "execution_count": 17
  },
  {
   "metadata": {},
   "cell_type": "markdown",
   "source": "# Evaluate Model",
   "id": "f2d5b75948b244a9"
  },
  {
   "metadata": {
    "ExecuteTime": {
     "end_time": "2024-07-28T19:50:17.805354Z",
     "start_time": "2024-07-28T19:50:17.750663Z"
    }
   },
   "cell_type": "code",
   "source": [
    "# Evaluate model\n",
    "gcn_metrics = eval.calculate_metrics(test_labels, y_pred)"
   ],
   "id": "3d6d97bb4e24971e",
   "outputs": [
    {
     "name": "stdout",
     "output_type": "stream",
     "text": [
      "Element-wise Accuracy: 0.883671875\n",
      "Classification Report:\n",
      "              precision    recall  f1-score   support\n",
      "\n",
      "    no block       0.92      0.95      0.94     11516\n",
      "       block       0.39      0.28      0.32      1284\n",
      "\n",
      "    accuracy                           0.88     12800\n",
      "   macro avg       0.66      0.61      0.63     12800\n",
      "weighted avg       0.87      0.88      0.87     12800\n",
      "\n",
      "Confusion Matrix:\n",
      "[[10955   561]\n",
      " [  928   356]]\n",
      "True Positives: 356\n",
      "False Negatives: 928\n",
      "True Negatives: 10955\n",
      "False Positives: 561\n"
     ]
    }
   ],
   "execution_count": 18
  },
  {
   "metadata": {},
   "cell_type": "markdown",
   "source": "# Save Predictions",
   "id": "dcdec39b9c953ade"
  },
  {
   "metadata": {
    "ExecuteTime": {
     "end_time": "2024-07-28T20:37:42.431271Z",
     "start_time": "2024-07-28T20:37:42.423512Z"
    }
   },
   "cell_type": "code",
   "source": [
    "# Save predicted blockstarts \n",
    "# np.save('data/blockstarts/gcn_predictions.npy', y_pred)"
   ],
   "id": "374af118f54bd2ac",
   "outputs": [],
   "execution_count": 26
  }
 ],
 "metadata": {
  "kernelspec": {
   "display_name": "Python 3",
   "language": "python",
   "name": "python3"
  },
  "language_info": {
   "codemirror_mode": {
    "name": "ipython",
    "version": 2
   },
   "file_extension": ".py",
   "mimetype": "text/x-python",
   "name": "python",
   "nbconvert_exporter": "python",
   "pygments_lexer": "ipython2",
   "version": "2.7.6"
  }
 },
 "nbformat": 4,
 "nbformat_minor": 5
}
